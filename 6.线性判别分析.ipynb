{
 "cells": [
  {
   "cell_type": "markdown",
   "metadata": {},
   "source": [
    "# 线性判别分析"
   ]
  },
  {
   "cell_type": "markdown",
   "metadata": {},
   "source": [
    "## 基本原理"
   ]
  },
  {
   "cell_type": "markdown",
   "metadata": {},
   "source": [
    "- 判别分析的目的是得到体现分类的函数关系式，即判别函数\n",
    "- 基本思想是在已知观测对象的分类和特征变量值的前提下，从中筛选出能提供较多信息的变量，并建立判别函数\n",
    "- 目标是使得到的判别函数在对观测量进行判别其所属类别时的错判率最小 \n",
    "- 判别函数的一般形式是：\n",
    "$$ Y = a_1x_1 + a_2x_2 + \\dots + a_nx_n \\tag{1}$$\n",
    "其中， $Y$ 为判别函数判别值；$x_1 , x_2 , \\dots , x_n$ 为反映研究对象特征的变量； $a_1 , a_2 , \\dots , a_n $ 为各变量的系数，即判别系数\n",
    "\n",
    "- 常用的判别法有 **距离判别法**、**Fisher判别法** 和 **Bayes判别法**\n",
    "\n"
   ]
  },
  {
   "cell_type": "markdown",
   "metadata": {},
   "source": [
    "### 距离判别法"
   ]
  },
  {
   "cell_type": "markdown",
   "metadata": {},
   "source": [
    "对于二分类样本，假定两总体协差矩阵相等\n",
    "计算步骤如下：\n",
    "1. 计算两类样本均值: $\\bar{X_1}$ 和 $\\bar{X_2}$\n",
    "2. 计算样本协差矩阵，从而求出 $\\hat{\\Sigma }$\n",
    "    $$ S_i = \\sum_{a=1}^{n}(X_{a}^{(i)}-\\bar{X_i})(X_{a}^{(i)}-\\bar{X_i})^T   ,\\: \\:  i=1,2  \\tag{2} $$\n",
    "    $$ \\hat{\\Sigma } = \\frac{S_1+S_2}{n_1+n_2-2}   \\tag{3} $$\n",
    "3. 求线性判别函数 $W(X)$:\n",
    "    解线性方程组 $\\hat{\\Sigma }a = \\bar{X_1} - \\bar{X_2}$ 得：\n",
    "    $$ a = \\hat{\\Sigma }^{-1}(\\bar{X_1} - \\bar{X_2})  \\tag{4} $$\n",
    "    $$ W(X) = a^T(X-\\bar{X}) = a^T \\left [ X - \\frac{1}{2} ( \\bar{X}^{(1)} + \\bar{X}^{(2)}) \\right] \\tag{5} $$\n",
    "4. 对样品判别分类:\n",
    "    $$ y =\\left\\{\\begin{matrix}\n",
    "     1 \\; \\;   if\\;  W(X) > 0 \\\\\n",
    "     0 \\; \\;   if\\;  W(X) \\leq 0\n",
    "    \\end{matrix}\\right.  \\tag{6} $$\n",
    "5. 对判别效果作检验\n",
    "\n",
    "    判别分析是假设两组样品取自不同总体，如果两个总体的均值向量在统计上差异不显著，作判别分析意义就不大：所谓判别效果的检验就是检验两个正态总体的均值向量是否相等，取检验的统计量为：\n",
    "    $$ F = \\frac{(n_1+n_2-2)-p+1}{(n_1+n_2-2)p} T^2 \\sim F(p, n_1+n_2 - p-1) \\tag{7} $$\n",
    "    $$ T^2 = (n_1+n_2-2) \\left[\\sqrt{\\frac{n_1n_2}{n_1+n_2}}(\\bar{X}^{(1)} - \\bar{X}^{(2)})^TS^{-1} \\cdot \\sqrt{\\frac{n_1n_2}{n_1+n_2}}(\\bar{X}^{(1)} - \\bar{X}^{(2)}) \\right] \\tag{8}$$"
   ]
  },
  {
   "cell_type": "markdown",
   "metadata": {},
   "source": [
    "### Bayes判别分析"
   ]
  },
  {
   "cell_type": "markdown",
   "metadata": {},
   "source": [
    "1. 和距离判别法相似，计算两类样本均值: $\\bar{X_1}$ 和 $\\bar{X_2}$ 和计算样本协差矩阵，求出 $\\hat{\\Sigma }$\n",
    "2. 计算每组样本比例 $q_1$ 和 $q_2$:\n",
    "    $$ q_i = \\frac{n_i}{n}, \\; \\; i=1,2 \\tag{9} $$\n",
    "3. 代人判别函数：\n",
    "    $$ y(g/x) = \\ln{q_g} - \\frac{1}{2}\\mu^{(g)T}\\Sigma^{-1}\\mu^{(g)} + X^T\\Sigma^{-1}\\mu^{(g)} \\tag{10} $$\n",
    "4. 判别准则为：\n",
    "    $$ y =\\left\\{\\begin{matrix}\n",
    "     1 \\; \\;   if\\;  f_1(X) > f_2(X) \\\\\n",
    "     0 \\; \\;   if\\;  f_1(X) \\leq f_2(X)\n",
    "    \\end{matrix}\\right.  \\tag{11} $$"
   ]
  },
  {
   "cell_type": "markdown",
   "metadata": {},
   "source": [
    "### Fisher判别分析"
   ]
  },
  {
   "cell_type": "markdown",
   "metadata": {},
   "source": [
    "1. 利用公式 (4) 和公式 (5) 计算得到Fisher判别函数的系数 $c_1,c_2,\\dots,c_n$\n",
    "2. 计算判别临界值 $y_0$:\n",
    "    $$ \\bar{y}^{(i)} = \\sum_{k=1}^{n}c_k\\bar{x}_{k}^{(i)}, \\;\\; i=1,2 \\tag{12} $$\n",
    "    $$ y_0 = \\frac{n_1\\bar{y}^{(1)} + n_2\\bar{y}^{(2)}}{n_1+n_2} \\tag{13} $$\n",
    "3. 判别准则为：\n",
    "    $$ \\left \\{ \\begin{matrix} \n",
    "    &当 y > y_0 时, &\\;\\;  X \\in G_1 \\\\\n",
    "    &当 y < y_0 时, &\\;\\;  X \\in G_2 \\\\\n",
    "    &当 y= y_0 时,  &\\;\\; 待判 \n",
    "    \\end{matrix} \\right. \\tag{14} $$\n",
    "4. 根据公式(7)计算 $F$ 统计量对判别效果作检验\n"
   ]
  },
  {
   "cell_type": "markdown",
   "metadata": {},
   "source": [
    "## 实例分析\n",
    "以Iris数据为例。Iris数据集是常用的分类实验数据集，由Fisher, 1936收集整理。Iris也称鸢尾花卉数据集，是一类多重变量分析的数据集。数据集包含150个数据集，分为3类，每类50个数据，每个数据包含4个属性。可通过花萼长度，花萼宽度，花瓣长度，花瓣宽度4个属性预测鸢尾花卉属于（Setosa，Versicolour，Virginica）三个种类中的哪一类。"
   ]
  },
  {
   "cell_type": "code",
   "execution_count": 1,
   "metadata": {
    "collapsed": false
   },
   "outputs": [],
   "source": [
    "import matplotlib.pyplot as plt\n",
    "import numpy as np\n",
    "\n",
    "from sklearn.datasets import load_iris\n",
    "iris = load_iris()"
   ]
  },
  {
   "cell_type": "code",
   "execution_count": 2,
   "metadata": {
    "collapsed": false
   },
   "outputs": [],
   "source": [
    "X = iris.data\n",
    "y = iris.target\n",
    "target_names = iris.target_names\n",
    "feature_names = iris.feature_names"
   ]
  },
  {
   "cell_type": "code",
   "execution_count": 6,
   "metadata": {
    "collapsed": false
   },
   "outputs": [
    {
     "data": {
      "image/png": "[encoded data removed]",
      "text/plain": [
       "<matplotlib.figure.Figure at 0x1e5f1eb7080>"
      ]
     },
     "metadata": {},
     "output_type": "display_data"
    }
   ],
   "source": [
    "colors = ['red', 'blue', 'yellow']\n",
    "for i, color in zip(np.unique(y), colors):\n",
    "    plt.scatter(X[y==i, 1], X[y==i, 2], c=color, label=target_names[i])\n",
    "\n",
    "plt.xlabel(feature_names[1])\n",
    "plt.ylabel(feature_names[2])\n",
    "plt.legend()\n",
    "plt.show()"
   ]
  },
  {
   "cell_type": "code",
   "execution_count": 4,
   "metadata": {
    "collapsed": false
   },
   "outputs": [
    {
     "data": {
      "text/plain": [
       "LinearDiscriminantAnalysis(n_components=None, priors=None, shrinkage=None,\n",
       "              solver='svd', store_covariance=False, tol=0.0001)"
      ]
     },
     "execution_count": 4,
     "metadata": {},
     "output_type": "execute_result"
    }
   ],
   "source": [
    "from sklearn.discriminant_analysis import LinearDiscriminantAnalysis\n",
    "lda = LinearDiscriminantAnalysis()\n",
    "lda.fit(X[:,[1,2]], y)"
   ]
  },
  {
   "cell_type": "code",
   "execution_count": 7,
   "metadata": {
    "collapsed": false,
    "scrolled": true
   },
   "outputs": [
    {
     "data": {
      "image/png": "[encoded data removed]",
      "text/plain": [
       "<matplotlib.figure.Figure at 0x1e5f4370668>"
      ]
     },
     "metadata": {},
     "output_type": "display_data"
    }
   ],
   "source": [
    "colors = ['red', 'blue', 'yellow']\n",
    "for i, color in zip(np.unique(y), colors):\n",
    "    plt.scatter(X[y==i, 1], X[y==i, 2], c=color, label=target_names[i])\n",
    "\n",
    "xmin, xmax = plt.xlim()\n",
    "ymin, ymax = plt.ylim()\n",
    "xx, yy = np.meshgrid(np.linspace(xmin, xmax, 1000), np.linspace(ymin, ymax, 1000))\n",
    "Z = lda.predict(np.c_[xx.ravel(), yy.ravel()])\n",
    "Z = Z.reshape(xx.shape)\n",
    "plt.contourf(xx, yy, Z, cmap=plt.cm.Paired, alpha=0.2)\n",
    "\n",
    "plt.xlabel(feature_names[1])\n",
    "plt.ylabel(feature_names[2])\n",
    "plt.legend()\n",
    "plt.show()"
   ]
  }
 ],
 "metadata": {
  "kernelspec": {
   "display_name": "Python [conda root]",
   "language": "python",
   "name": "conda-root-py"
  },
  "language_info": {
   "codemirror_mode": {
    "name": "ipython",
    "version": 3
   },
   "file_extension": ".py",
   "mimetype": "text/x-python",
   "name": "python",
   "nbconvert_exporter": "python",
   "pygments_lexer": "ipython3",
   "version": "3.6.2"
  },
  "toc": {
   "nav_menu": {},
   "number_sections": true,
   "sideBar": true,
   "skip_h1_title": false,
   "toc_cell": false,
   "toc_position": {},
   "toc_section_display": "block",
   "toc_window_display": true
  },
  "varInspector": {
   "cols": {
    "lenName": 16,
    "lenType": 16,
    "lenVar": 40
   },
   "kernels_config": {
    "python": {
     "delete_cmd_postfix": "",
     "delete_cmd_prefix": "del ",
     "library": "var_list.py",
     "varRefreshCmd": "print(var_dic_list())"
    },
    "r": {
     "delete_cmd_postfix": ") ",
     "delete_cmd_prefix": "rm(",
     "library": "var_list.r",
     "varRefreshCmd": "cat(var_dic_list()) "
    }
   },
   "types_to_exclude": [
    "module",
    "function",
    "builtin_function_or_method",
    "instance",
    "_Feature"
   ],
   "window_display": false
  }
 },
 "nbformat": 4,
 "nbformat_minor": 2
}
