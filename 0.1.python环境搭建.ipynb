{
 "cells": [
  {
   "cell_type": "markdown",
   "metadata": {
    "toc": "true"
   },
   "source": [
    " # Table of Contents\n",
    "<div class=\"toc\" style=\"margin-top: 1em;\"><ul class=\"toc-item\" id=\"toc-level0\"><li><span><a href=\"#python-环境搭建\" data-toc-modified-id=\"python-环境搭建-1\"><span class=\"toc-item-num\">1&nbsp;&nbsp;</span>python 环境搭建</a></span><ul class=\"toc-item\"><li><span><a href=\"#安装\" data-toc-modified-id=\"安装-1.1\"><span class=\"toc-item-num\">1.1&nbsp;&nbsp;</span>安装</a></span><ul class=\"toc-item\"><li><span><a href=\"#下载\" data-toc-modified-id=\"下载-1.1.1\"><span class=\"toc-item-num\">1.1.1&nbsp;&nbsp;</span>下载</a></span></li><li><span><a href=\"#python版本问题\" data-toc-modified-id=\"python版本问题-1.1.2\"><span class=\"toc-item-num\">1.1.2&nbsp;&nbsp;</span>python版本问题</a></span></li></ul></li><li><span><a href=\"#jupyter\" data-toc-modified-id=\"jupyter-1.2\"><span class=\"toc-item-num\">1.2&nbsp;&nbsp;</span>jupyter</a></span><ul class=\"toc-item\"><li><span><a href=\"#打开jupyter\" data-toc-modified-id=\"打开jupyter-1.2.1\"><span class=\"toc-item-num\">1.2.1&nbsp;&nbsp;</span>打开jupyter</a></span></li><li><span><a href=\"#jupyter操作\" data-toc-modified-id=\"jupyter操作-1.2.2\"><span class=\"toc-item-num\">1.2.2&nbsp;&nbsp;</span>jupyter操作</a></span></li><li><span><a href=\"#选择在不同的工作目录下运行jupyter\" data-toc-modified-id=\"选择在不同的工作目录下运行jupyter-1.2.3\"><span class=\"toc-item-num\">1.2.3&nbsp;&nbsp;</span>选择在不同的工作目录下运行jupyter</a></span></li></ul></li><li><span><a href=\"#包管理\" data-toc-modified-id=\"包管理-1.3\"><span class=\"toc-item-num\">1.3&nbsp;&nbsp;</span>包管理</a></span><ul class=\"toc-item\"><li><span><a href=\"#python数据挖掘主要使用的包\" data-toc-modified-id=\"python数据挖掘主要使用的包-1.3.1\"><span class=\"toc-item-num\">1.3.1&nbsp;&nbsp;</span>python数据挖掘主要使用的包</a></span></li><li><span><a href=\"#包安装\" data-toc-modified-id=\"包安装-1.3.2\"><span class=\"toc-item-num\">1.3.2&nbsp;&nbsp;</span>包安装</a></span></li><li><span><a href=\"#包的使用\" data-toc-modified-id=\"包的使用-1.3.3\"><span class=\"toc-item-num\">1.3.3&nbsp;&nbsp;</span>包的使用</a></span></li></ul></li></ul></li></ul></div>"
   ]
  },
  {
   "cell_type": "markdown",
   "metadata": {},
   "source": [
    "# python 环境搭建\n"
   ]
  },
  {
   "cell_type": "markdown",
   "metadata": {},
   "source": [
    "## 安装"
   ]
  },
  {
   "cell_type": "markdown",
   "metadata": {},
   "source": [
    "[Anaconda](https://www.anaconda.com/)是一个用于科学计算的Python发行版，支持 Linux, Mac, Windows系统，提供了包管理与环境管理的功能，可以很方便地解决多版本python并存、切换以及各种第三方包安装问题。Anaconda利用工具/命令conda来进行package和environment的管理，并且已经包含了Python和相关的配套工具。"
   ]
  },
  {
   "cell_type": "markdown",
   "metadata": {},
   "source": [
    "### 下载\n",
    "- 官网下载：https://www.anaconda.com/download/\n",
    "- 清华大学镜像下载：https://mirrors.tuna.tsinghua.edu.cn/anaconda/archive/ (推荐）\n",
    "\n",
    "推荐使用清华大学镜像下载，选择对应的版本，如：\"Anaconda3-5.0.0-Windows-x86_64.exe\".\n",
    "![下载](./fig/1.png)\n",
    "下载好之后默认安装就好，最后会询问是否加入到系统变量，选择加入。"
   ]
  },
  {
   "cell_type": "markdown",
   "metadata": {},
   "source": [
    "### python版本问题\n",
    "\n",
    "Python有两个支持的版本，分别是2.7和3.5+。3.0以上的版本与2.7版本有了不少的改动，所以在3.0+的版本中2.7的语句有些是编译不成功的。本教程使用的版本是3.5+版本。要想查看python的版本，可以在cmd命令行中输入 `python --version` 来查看 ![python version](./fig/10.png)\n"
   ]
  },
  {
   "cell_type": "markdown",
   "metadata": {},
   "source": [
    "## jupyter"
   ]
  },
  {
   "cell_type": "markdown",
   "metadata": {},
   "source": [
    "### 打开jupyter"
   ]
  },
  {
   "cell_type": "markdown",
   "metadata": {},
   "source": [
    "- 下载好了之后,按 `win(开始键)`+`R` 然后输入`cmd`后点确定，会弹出一个界面。\n",
    "- 在弹出的界面里面输入`jupyter notebook`,会弹出一个网页.\n",
    "- 点击右上角的 `new` 选择 `python3` 即可创建并打开一个新的可运行 python`的笔记本jupyter。\n",
    "\n",
    "![打开cmd](./fig/2.png) ![cmd](./fig/3.png) ![jupyter](./fig/4.png)"
   ]
  },
  {
   "cell_type": "markdown",
   "metadata": {},
   "source": [
    "### jupyter操作"
   ]
  },
  {
   "cell_type": "markdown",
   "metadata": {},
   "source": [
    "主要：代码运行、保存、文件重命名、文件上传\n",
    "\n",
    "在单元框里面写入代码后，按`Shift`+`Enter`键即可运行代码，显示结果。也可以选择导航栏中的按钮运行代码。\n",
    "![jupyter run](./fig/5.png)\n",
    "按左上角的保存键即可保存文件,或者按file下的save and checkpoint。\n",
    "![save and rename](./fig/6.png)\n",
    "\n",
    "文件上传在jupyter主界面点右上角的upload后选择要上传的文件，再点一次upload即可上传文件。\n",
    "![upload_1](./fig/7.png) ![upload_2](./fig/8.png)"
   ]
  },
  {
   "cell_type": "markdown",
   "metadata": {},
   "source": [
    "### 选择在不同的工作目录下运行jupyter\n",
    "打开你要运行的工作目录，也就是打开你要存放代码的文件夹，然后按住Shift和右键,点击在此处点击打开命令行窗口或者打开powershell，然后和之前的一样，输入jupyter notebook即可在这个文件夹下打开jupyter，而且文件也保存在这个文件夹下，可以方便读取和存储数据在这个文件夹下。\n",
    "![powershell](./fig/9.png)"
   ]
  },
  {
   "cell_type": "markdown",
   "metadata": {},
   "source": [
    "## 包管理"
   ]
  },
  {
   "cell_type": "markdown",
   "metadata": {},
   "source": [
    "### python数据挖掘主要使用的包\n",
    "python本身的非常小，编写简单，容易上手。又由于python有各种各样的拓展包，所以python的功能非常强大。在数据挖掘领域，我们主要使用的拓展包为：\n",
    " - NumPy\n",
    " - SciPy\n",
    " - Pandas\n",
    " - Matplotlib\n",
    " - Sklearn\n",
    " \n",
    " \n",
    " 其中[`NumPy`](http://www.numpy.org/)是科学运算的基础，可以很方便的对数据进行多个维度操作。 [`SciPy`](https://www.scipy.org/)是一个基于python的数据科学运算体系，包括优化(scipy.optimize), 线性代数(scipy.optimize), 统计分析(scipy.optimize)等强大的算法。[`Pandas`](https://pandas.pydata.org/)是一个提供快速，灵活和表达性数据结构，能够使“关系”或“标记”数据变得简单直观。[`Matplotlib`](https://matplotlib.org/)是类似于Matlab画图风格的强大2d画图工具。[`Sklearn`](http://scikit-learn.org/)是一个基于python的机器学习库，里面包含各种机器学习算法。\n"
   ]
  },
  {
   "cell_type": "markdown",
   "metadata": {},
   "source": [
    "- Python的官方教程: https://docs.scipy.org/doc/numpy-dev/user/quickstart.html\n",
    "- NumPy的官方教程: https://docs.scipy.org/doc/numpy-dev/user/quickstart.html\n",
    "- Pandas的官方教程：https://pandas.pydata.org/pandas-docs/stable/index.html\n",
    "- SciPy官方教程： http://scipy.github.io/devdocs/tutorial/index.html\n",
    "- Matplotlib的官方教程： https://matplotlib.org/tutorials/index.html\n",
    "- Sklearn的官方教程：http://scikit-learn.org/stable/tutorial/index.html"
   ]
  },
  {
   "cell_type": "markdown",
   "metadata": {},
   "source": [
    "### 包安装\n",
    "\n",
    "- 在 cmd 或者 powershell 中输入 `pip install 要安装的包的名称` 即可自动下载安装。\n",
    "- 有些包在win系统下pip安装可能不成功,可以输入 `conda install 要安装的包的名称` 进行安装。\n",
    "\n",
    "如，你想安装`numpy`(已经存在了）这个包，你在cmd或者powershell中输入 `pip install numpy` 即可"
   ]
  },
  {
   "cell_type": "markdown",
   "metadata": {},
   "source": [
    "### 包的使用\n",
    "安装好需要的包之后，只用在代码中导入需要的使用的包，即可使用该包。"
   ]
  },
  {
   "cell_type": "code",
   "execution_count": 1,
   "metadata": {},
   "outputs": [
    {
     "name": "stdout",
     "output_type": "stream",
     "text": [
      "7\n"
     ]
    }
   ],
   "source": [
    "## 导入numpy包，并用np简化命名\n",
    "import numpy as np\n",
    "\n",
    "##生成1个0-100个随机整数\n",
    "print(np.random.randint(0,100))"
   ]
  },
  {
   "cell_type": "code",
   "execution_count": 2,
   "metadata": {},
   "outputs": [
    {
     "data": {
      "text/plain": [
       "[<matplotlib.lines.Line2D at 0x2124e7d6470>]"
      ]
     },
     "execution_count": 2,
     "metadata": {},
     "output_type": "execute_result"
    },
    {
     "data": {
      "image/png": "[encoded data removed]",
      "text/plain": [
       "<matplotlib.figure.Figure at 0x2124b2dbe48>"
      ]
     },
     "metadata": {},
     "output_type": "display_data"
    }
   ],
   "source": [
    "## 导入matplotlib中的pyplot包，并简化命名为plt\n",
    "import matplotlib.pyplot as plt\n",
    "\n",
    "##让图像在显示在界面中\n",
    "%matplotlib inline\n",
    "\n",
    "## 用numpy生成100个正态分布随机数，然后用matpoltlib画图\n",
    "plt.plot(np.random.randn(100))"
   ]
  },
  {
   "cell_type": "code",
   "execution_count": null,
   "metadata": {
    "collapsed": true
   },
   "outputs": [],
   "source": []
  }
 ],
 "metadata": {
  "kernelspec": {
   "display_name": "Python [conda root]",
   "language": "python",
   "name": "conda-root-py"
  },
  "language_info": {
   "codemirror_mode": {
    "name": "ipython",
    "version": 3
   },
   "file_extension": ".py",
   "mimetype": "text/x-python",
   "name": "python",
   "nbconvert_exporter": "python",
   "pygments_lexer": "ipython3",
   "version": "3.6.2"
  },
  "toc": {
   "nav_menu": {},
   "number_sections": true,
   "sideBar": true,
   "skip_h1_title": false,
   "toc_cell": true,
   "toc_position": {
    "height": "541px",
    "left": "0px",
    "right": "1154px",
    "top": "106px",
    "width": "212px"
   },
   "toc_section_display": "block",
   "toc_window_display": true
  },
  "varInspector": {
   "cols": {
    "lenName": 16,
    "lenType": 16,
    "lenVar": 40
   },
   "kernels_config": {
    "python": {
     "delete_cmd_postfix": "",
     "delete_cmd_prefix": "del ",
     "library": "var_list.py",
     "varRefreshCmd": "print(var_dic_list())"
    },
    "r": {
     "delete_cmd_postfix": ") ",
     "delete_cmd_prefix": "rm(",
     "library": "var_list.r",
     "varRefreshCmd": "cat(var_dic_list()) "
    }
   },
   "types_to_exclude": [
    "module",
    "function",
    "builtin_function_or_method",
    "instance",
    "_Feature"
   ],
   "window_display": false
  }
 },
 "nbformat": 4,
 "nbformat_minor": 2
}
