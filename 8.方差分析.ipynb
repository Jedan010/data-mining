{
 "cells": [
  {
   "cell_type": "markdown",
   "metadata": {
    "toc": "true"
   },
   "source": [
    " # Table of Contents\n",
    "<div class=\"toc\" style=\"margin-top: 1em;\"><ul class=\"toc-item\" id=\"toc-level0\"><li><span><a href=\"#方差分析概述\" data-toc-modified-id=\"方差分析概述-1\"><span class=\"toc-item-num\">1&nbsp;&nbsp;</span>方差分析概述</a></span><ul class=\"toc-item\"><li><span><a href=\"#单因素试验的方差分析\" data-toc-modified-id=\"单因素试验的方差分析-1.1\"><span class=\"toc-item-num\">1.1&nbsp;&nbsp;</span>单因素试验的方差分析</a></span></li><li><span><a href=\"#单因素试验方差分析的数学模型\" data-toc-modified-id=\"单因素试验方差分析的数学模型-1.2\"><span class=\"toc-item-num\">1.2&nbsp;&nbsp;</span>单因素试验方差分析的数学模型</a></span></li><li><span><a href=\"#双因素无重复试验的方差分析\" data-toc-modified-id=\"双因素无重复试验的方差分析-1.3\"><span class=\"toc-item-num\">1.3&nbsp;&nbsp;</span>双因素无重复试验的方差分析</a></span></li></ul></li><li><span><a href=\"#python实现方差分析\" data-toc-modified-id=\"python实现方差分析-2\"><span class=\"toc-item-num\">2&nbsp;&nbsp;</span>python实现方差分析</a></span><ul class=\"toc-item\"><li><span><a href=\"#单因素\" data-toc-modified-id=\"单因素-2.1\"><span class=\"toc-item-num\">2.1&nbsp;&nbsp;</span>单因素</a></span></li><li><span><a href=\"#双因素\" data-toc-modified-id=\"双因素-2.2\"><span class=\"toc-item-num\">2.2&nbsp;&nbsp;</span>双因素</a></span></li></ul></li></ul></div>"
   ]
  },
  {
   "cell_type": "markdown",
   "metadata": {},
   "source": [
    "# 方差分析概述"
   ]
  },
  {
   "cell_type": "markdown",
   "metadata": {},
   "source": [
    "## 单因素试验的方差分析"
   ]
  },
  {
   "cell_type": "markdown",
   "metadata": {},
   "source": [
    "**方差分析**是根据试验的结果进行分析,鉴别各个有关因素对试验结果的影响程度.\n",
    ">方差分析（ANOVA）是一种特殊形式的统计假设检定，广泛应用于实验数据的分析中。统计假设检定是一种根据数据进行决策的方法。测试结果（通过零假设进行计算）如果不仅仅是因为运气，则在统计学上称为显著。统计显著的结果（当可能性的p值小于临界的“显著值”）则可以推翻零假设。"
   ]
  },
  {
   "cell_type": "markdown",
   "metadata": {},
   "source": [
    "## 单因素试验方差分析的数学模型\n"
   ]
  },
  {
   "cell_type": "markdown",
   "metadata": {},
   "source": [
    "**假设**：\n",
    " 1. 各组样本背后所隐含的族群分布必须为正态分布或者是逼近正态分布。\n",
    " 2. 各组样本必须独立。\n",
    " 3. 族群的方差必须相等。\n",
    " \n",
    " \n",
    " **平方和的分解：**\n",
    "- 总平方和：\n",
    " $$ S_T = \\sum_{j=1}^{s}\\sum_{i=1}^{n_j}(X_{ij}-\\bar{X})^2  \\tag{1}$$\n",
    "- 误差平方和：\n",
    "  $$ S_E = \\sum_{j=1}^{s}\\sum_{i=1}^{n_j}(X_{ij}-\\bar{X}_{\\cdot j})^2  \\tag{2}$$\n",
    "- 效应平方和：\n",
    "  $$ S_A = \\sum_{j=1}^{s}\\sum_{i=1}^{n_j}(\\bar{X}_{\\cdot j}-\\bar{X})^2  \\tag{3}$$\n",
    "  \n",
    "- 平方和公式：\n",
    "$$ S_T = S_E + S_A \\tag{4} $$\n",
    "\n"
   ]
  },
  {
   "cell_type": "markdown",
   "metadata": {},
   "source": [
    "** 单因素试验方差分析表 **\n",
    "\n",
    "| 方差来源 \t| 平方和 \t| 自由度 \t|             均方            \t|             F统计量             \t|   P值   \t|\n",
    "|:--------:\t|:------:\t|:------:\t|:---------------------------:\t|:-------------------------------:\t|:-------:\t|\n",
    "|   因素A  \t|  $S_A$ \t|  $s-1$ \t| $\\bar{S_A}=\\frac{S_A}{s-1}$ \t| $F=\\frac{\\bar{S}_A}{\\bar{S}_E}$ \t| $p$ value \t|\n",
    "|   误差   \t|  $S_E$ \t|  $n-s$ \t| $\\bar{S_E}=\\frac{S_E}{n-s}$ \t|                                 \t|         \t|\n",
    "|   总和   \t|  $S_T$ \t|  $n-1$ \t|                             \t|                                 \t|         \t|"
   ]
  },
  {
   "cell_type": "markdown",
   "metadata": {
    "collapsed": true
   },
   "source": [
    "## 双因素无重复试验的方差分析\n",
    "- 检验两个因素的交互效应,对两个因素的每一组合至少要做两次试验.\n",
    "- 如果已知不存在交互作用,或已知交互作用对试验的指标影响很小,则可以不考虑交互作用.\n",
    "- 对两个因素的每一组合只做一次试验,也可以对各因素的效应进行分析——双因素无重复试验的方差分析.\n"
   ]
  },
  {
   "cell_type": "markdown",
   "metadata": {},
   "source": [
    "# python实现方差分析"
   ]
  },
  {
   "cell_type": "markdown",
   "metadata": {},
   "source": [
    "## 单因素"
   ]
  },
  {
   "cell_type": "code",
   "execution_count": 1,
   "metadata": {
    "collapsed": false
   },
   "outputs": [
    {
     "data": {
      "text/html": [
       "<div>\n",
       "<style>\n",
       "    .dataframe thead tr:only-child th {\n",
       "        text-align: right;\n",
       "    }\n",
       "\n",
       "    .dataframe thead th {\n",
       "        text-align: left;\n",
       "    }\n",
       "\n",
       "    .dataframe tbody tr th {\n",
       "        vertical-align: top;\n",
       "    }\n",
       "</style>\n",
       "<table border=\"1\" class=\"dataframe\">\n",
       "  <thead>\n",
       "    <tr style=\"text-align: right;\">\n",
       "      <th></th>\n",
       "      <th>行业</th>\n",
       "      <th>投诉次数</th>\n",
       "    </tr>\n",
       "  </thead>\n",
       "  <tbody>\n",
       "    <tr>\n",
       "      <th>0</th>\n",
       "      <td>零售业</td>\n",
       "      <td>57</td>\n",
       "    </tr>\n",
       "    <tr>\n",
       "      <th>1</th>\n",
       "      <td>零售业</td>\n",
       "      <td>66</td>\n",
       "    </tr>\n",
       "    <tr>\n",
       "      <th>2</th>\n",
       "      <td>零售业</td>\n",
       "      <td>49</td>\n",
       "    </tr>\n",
       "    <tr>\n",
       "      <th>3</th>\n",
       "      <td>零售业</td>\n",
       "      <td>40</td>\n",
       "    </tr>\n",
       "    <tr>\n",
       "      <th>4</th>\n",
       "      <td>零售业</td>\n",
       "      <td>34</td>\n",
       "    </tr>\n",
       "  </tbody>\n",
       "</table>\n",
       "</div>"
      ],
      "text/plain": [
       "    行业  投诉次数\n",
       "0  零售业    57\n",
       "1  零售业    66\n",
       "2  零售业    49\n",
       "3  零售业    40\n",
       "4  零售业    34"
      ]
     },
     "execution_count": 1,
     "metadata": {},
     "output_type": "execute_result"
    }
   ],
   "source": [
    "import pandas as pd\n",
    "data1 = pd.read_excel('./data/方差分析.xlsx', sheetname='消费')\n",
    "data1.head()"
   ]
  },
  {
   "cell_type": "code",
   "execution_count": 2,
   "metadata": {
    "collapsed": false
   },
   "outputs": [
    {
     "data": {
      "image/png": "[encoded data removed]",
      "text/plain": [
       "<matplotlib.figure.Figure at 0x2d5a2126b70>"
      ]
     },
     "metadata": {},
     "output_type": "display_data"
    }
   ],
   "source": [
    "data1.boxplot(column='投诉次数',by='行业', figsize=(10,6));"
   ]
  },
  {
   "cell_type": "code",
   "execution_count": 3,
   "metadata": {
    "collapsed": false
   },
   "outputs": [
    {
     "name": "stderr",
     "output_type": "stream",
     "text": [
      "C:\\Users\\J\\AppData\\Local\\Continuum\\Anaconda3\\lib\\site-packages\\statsmodels\\compat\\pandas.py:56: FutureWarning: The pandas.core.datetools module is deprecated and will be removed in a future version. Please use the pandas.tseries module instead.\n",
      "  from pandas.core import datetools\n",
      "C:\\Users\\J\\AppData\\Local\\Continuum\\Anaconda3\\lib\\site-packages\\scipy\\stats\\_distn_infrastructure.py:879: RuntimeWarning: invalid value encountered in greater\n",
      "  return (self.a < x) & (x < self.b)\n",
      "C:\\Users\\J\\AppData\\Local\\Continuum\\Anaconda3\\lib\\site-packages\\scipy\\stats\\_distn_infrastructure.py:879: RuntimeWarning: invalid value encountered in less\n",
      "  return (self.a < x) & (x < self.b)\n",
      "C:\\Users\\J\\AppData\\Local\\Continuum\\Anaconda3\\lib\\site-packages\\scipy\\stats\\_distn_infrastructure.py:1818: RuntimeWarning: invalid value encountered in less_equal\n",
      "  cond2 = cond0 & (x <= self.a)\n"
     ]
    },
    {
     "data": {
      "text/html": [
       "<div>\n",
       "<style>\n",
       "    .dataframe thead tr:only-child th {\n",
       "        text-align: right;\n",
       "    }\n",
       "\n",
       "    .dataframe thead th {\n",
       "        text-align: left;\n",
       "    }\n",
       "\n",
       "    .dataframe tbody tr th {\n",
       "        vertical-align: top;\n",
       "    }\n",
       "</style>\n",
       "<table border=\"1\" class=\"dataframe\">\n",
       "  <thead>\n",
       "    <tr style=\"text-align: right;\">\n",
       "      <th></th>\n",
       "      <th>df</th>\n",
       "      <th>sum_sq</th>\n",
       "      <th>mean_sq</th>\n",
       "      <th>F</th>\n",
       "      <th>PR(&gt;F)</th>\n",
       "    </tr>\n",
       "  </thead>\n",
       "  <tbody>\n",
       "    <tr>\n",
       "      <th>C(行业)</th>\n",
       "      <td>3.0</td>\n",
       "      <td>1456.608696</td>\n",
       "      <td>485.536232</td>\n",
       "      <td>3.406643</td>\n",
       "      <td>0.038765</td>\n",
       "    </tr>\n",
       "    <tr>\n",
       "      <th>Residual</th>\n",
       "      <td>19.0</td>\n",
       "      <td>2708.000000</td>\n",
       "      <td>142.526316</td>\n",
       "      <td>NaN</td>\n",
       "      <td>NaN</td>\n",
       "    </tr>\n",
       "  </tbody>\n",
       "</table>\n",
       "</div>"
      ],
      "text/plain": [
       "            df       sum_sq     mean_sq         F    PR(>F)\n",
       "C(行业)      3.0  1456.608696  485.536232  3.406643  0.038765\n",
       "Residual  19.0  2708.000000  142.526316       NaN       NaN"
      ]
     },
     "execution_count": 3,
     "metadata": {},
     "output_type": "execute_result"
    }
   ],
   "source": [
    "import statsmodels.api as sm\n",
    "import statsmodels.formula.api as smf\n",
    "ols = smf.ols('投诉次数 ~ C(行业) ',data=data1).fit()\n",
    "f1= sm.stats.anova_lm(ols)\n",
    "f1"
   ]
  },
  {
   "cell_type": "markdown",
   "metadata": {},
   "source": [
    "## 双因素"
   ]
  },
  {
   "cell_type": "code",
   "execution_count": 4,
   "metadata": {
    "collapsed": false
   },
   "outputs": [
    {
     "data": {
      "text/html": [
       "<div>\n",
       "<style>\n",
       "    .dataframe thead tr:only-child th {\n",
       "        text-align: right;\n",
       "    }\n",
       "\n",
       "    .dataframe thead th {\n",
       "        text-align: left;\n",
       "    }\n",
       "\n",
       "    .dataframe tbody tr th {\n",
       "        vertical-align: top;\n",
       "    }\n",
       "</style>\n",
       "<table border=\"1\" class=\"dataframe\">\n",
       "  <thead>\n",
       "    <tr style=\"text-align: right;\">\n",
       "      <th></th>\n",
       "      <th>品牌</th>\n",
       "      <th>地区</th>\n",
       "      <th>销售额</th>\n",
       "    </tr>\n",
       "  </thead>\n",
       "  <tbody>\n",
       "    <tr>\n",
       "      <th>0</th>\n",
       "      <td>1</td>\n",
       "      <td>1</td>\n",
       "      <td>365</td>\n",
       "    </tr>\n",
       "    <tr>\n",
       "      <th>1</th>\n",
       "      <td>2</td>\n",
       "      <td>1</td>\n",
       "      <td>345</td>\n",
       "    </tr>\n",
       "    <tr>\n",
       "      <th>2</th>\n",
       "      <td>3</td>\n",
       "      <td>1</td>\n",
       "      <td>358</td>\n",
       "    </tr>\n",
       "    <tr>\n",
       "      <th>3</th>\n",
       "      <td>4</td>\n",
       "      <td>1</td>\n",
       "      <td>288</td>\n",
       "    </tr>\n",
       "    <tr>\n",
       "      <th>4</th>\n",
       "      <td>1</td>\n",
       "      <td>2</td>\n",
       "      <td>350</td>\n",
       "    </tr>\n",
       "  </tbody>\n",
       "</table>\n",
       "</div>"
      ],
      "text/plain": [
       "   品牌  地区  销售额\n",
       "0   1   1  365\n",
       "1   2   1  345\n",
       "2   3   1  358\n",
       "3   4   1  288\n",
       "4   1   2  350"
      ]
     },
     "execution_count": 4,
     "metadata": {},
     "output_type": "execute_result"
    }
   ],
   "source": [
    "data2 = pd.read_excel('./data/方差分析.xlsx',sheetname='电视')\n",
    "data2.head()"
   ]
  },
  {
   "cell_type": "code",
   "execution_count": 5,
   "metadata": {
    "collapsed": false
   },
   "outputs": [
    {
     "data": {
      "image/png": "[encoded data removed]",
      "text/plain": [
       "<matplotlib.figure.Figure at 0x2d5a46f7be0>"
      ]
     },
     "metadata": {},
     "output_type": "display_data"
    },
    {
     "data": {
      "image/png": "[encoded data removed]",
      "text/plain": [
       "<matplotlib.figure.Figure at 0x2d5a46f7400>"
      ]
     },
     "metadata": {},
     "output_type": "display_data"
    }
   ],
   "source": [
    "data2.boxplot(column='销售额',by='品牌',figsize=(10,6))\n",
    "data2.boxplot(column='销售额',by='地区',figsize=(10,6));"
   ]
  },
  {
   "cell_type": "code",
   "execution_count": 6,
   "metadata": {
    "collapsed": false
   },
   "outputs": [
    {
     "name": "stderr",
     "output_type": "stream",
     "text": [
      "C:\\Users\\J\\AppData\\Local\\Continuum\\Anaconda3\\lib\\site-packages\\scipy\\stats\\_distn_infrastructure.py:879: RuntimeWarning: invalid value encountered in greater\n",
      "  return (self.a < x) & (x < self.b)\n",
      "C:\\Users\\J\\AppData\\Local\\Continuum\\Anaconda3\\lib\\site-packages\\scipy\\stats\\_distn_infrastructure.py:879: RuntimeWarning: invalid value encountered in less\n",
      "  return (self.a < x) & (x < self.b)\n",
      "C:\\Users\\J\\AppData\\Local\\Continuum\\Anaconda3\\lib\\site-packages\\scipy\\stats\\_distn_infrastructure.py:1818: RuntimeWarning: invalid value encountered in less_equal\n",
      "  cond2 = cond0 & (x <= self.a)\n"
     ]
    },
    {
     "data": {
      "text/html": [
       "<div>\n",
       "<style>\n",
       "    .dataframe thead tr:only-child th {\n",
       "        text-align: right;\n",
       "    }\n",
       "\n",
       "    .dataframe thead th {\n",
       "        text-align: left;\n",
       "    }\n",
       "\n",
       "    .dataframe tbody tr th {\n",
       "        vertical-align: top;\n",
       "    }\n",
       "</style>\n",
       "<table border=\"1\" class=\"dataframe\">\n",
       "  <thead>\n",
       "    <tr style=\"text-align: right;\">\n",
       "      <th></th>\n",
       "      <th>df</th>\n",
       "      <th>sum_sq</th>\n",
       "      <th>mean_sq</th>\n",
       "      <th>F</th>\n",
       "      <th>PR(&gt;F)</th>\n",
       "    </tr>\n",
       "  </thead>\n",
       "  <tbody>\n",
       "    <tr>\n",
       "      <th>C(地区)</th>\n",
       "      <td>4.0</td>\n",
       "      <td>2011.70</td>\n",
       "      <td>502.925000</td>\n",
       "      <td>2.100846</td>\n",
       "      <td>0.143665</td>\n",
       "    </tr>\n",
       "    <tr>\n",
       "      <th>C(品牌)</th>\n",
       "      <td>3.0</td>\n",
       "      <td>13004.55</td>\n",
       "      <td>4334.850000</td>\n",
       "      <td>18.107773</td>\n",
       "      <td>0.000095</td>\n",
       "    </tr>\n",
       "    <tr>\n",
       "      <th>Residual</th>\n",
       "      <td>12.0</td>\n",
       "      <td>2872.70</td>\n",
       "      <td>239.391667</td>\n",
       "      <td>NaN</td>\n",
       "      <td>NaN</td>\n",
       "    </tr>\n",
       "  </tbody>\n",
       "</table>\n",
       "</div>"
      ],
      "text/plain": [
       "            df    sum_sq      mean_sq          F    PR(>F)\n",
       "C(地区)      4.0   2011.70   502.925000   2.100846  0.143665\n",
       "C(品牌)      3.0  13004.55  4334.850000  18.107773  0.000095\n",
       "Residual  12.0   2872.70   239.391667        NaN       NaN"
      ]
     },
     "execution_count": 6,
     "metadata": {},
     "output_type": "execute_result"
    }
   ],
   "source": [
    "ols2 = smf.ols('销售额 ~ C(地区) + C(品牌)',data=data2).fit()\n",
    "f2 = sm.stats.anova_lm(ols2)\n",
    "f2"
   ]
  }
 ],
 "metadata": {
  "kernelspec": {
   "display_name": "Python [conda root]",
   "language": "python",
   "name": "conda-root-py"
  },
  "language_info": {
   "codemirror_mode": {
    "name": "ipython",
    "version": 3
   },
   "file_extension": ".py",
   "mimetype": "text/x-python",
   "name": "python",
   "nbconvert_exporter": "python",
   "pygments_lexer": "ipython3",
   "version": "3.6.2"
  },
  "toc": {
   "nav_menu": {},
   "number_sections": true,
   "sideBar": true,
   "skip_h1_title": false,
   "toc_cell": true,
   "toc_position": {},
   "toc_section_display": "block",
   "toc_window_display": true
  },
  "varInspector": {
   "cols": {
    "lenName": 16,
    "lenType": 16,
    "lenVar": 40
   },
   "kernels_config": {
    "python": {
     "delete_cmd_postfix": "",
     "delete_cmd_prefix": "del ",
     "library": "var_list.py",
     "varRefreshCmd": "print(var_dic_list())"
    },
    "r": {
     "delete_cmd_postfix": ") ",
     "delete_cmd_prefix": "rm(",
     "library": "var_list.r",
     "varRefreshCmd": "cat(var_dic_list()) "
    }
   },
   "types_to_exclude": [
    "module",
    "function",
    "builtin_function_or_method",
    "instance",
    "_Feature"
   ],
   "window_display": false
  }
 },
 "nbformat": 4,
 "nbformat_minor": 2
}
