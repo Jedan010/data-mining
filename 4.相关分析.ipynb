{
 "cells": [
  {
   "cell_type": "markdown",
   "metadata": {},
   "source": [
    "# 相关分析"
   ]
  },
  {
   "cell_type": "markdown",
   "metadata": {},
   "source": [
    "## 相关分析的意义"
   ]
  },
  {
   "cell_type": "markdown",
   "metadata": {},
   "source": [
    "变量间的关系有两种类型：函数关系和相关关系。\n",
    "- 函数关系是一一对应的确定关系\n",
    "> 设有两个变量 $x$ 和 $y$ ，变量 $y$ 完全依赖于 $x$ ，则称  $y$ 是 $x$ 的函数，记为 $y = f (x)$，其中 $x$ 称为自变量，$y$ 称为因变量。\n",
    "\n",
    "- 相关关系\n",
    "    - 变量间确实存在、但数量上不固定的相互依存。这种关系不能用函数关系精确表达；\n",
    "    - 一个变量的取值不能由另一个变量惟一地确定；当变量 x 取某个值时，与之相关的变量 y 的取值可能有若干个；\n",
    "    - 各观测点分布在一条直线或曲线周围.\n"
   ]
  },
  {
   "cell_type": "markdown",
   "metadata": {},
   "source": [
    "## 相关关系的测定"
   ]
  },
  {
   "cell_type": "markdown",
   "metadata": {},
   "source": [
    "### 相关图\n",
    "相关图也称为散点图。一对数据对应坐标图上一个点，将成对的观察数据表现为坐标图的散点而形成的图。\n",
    "![png](./fig/13.png)"
   ]
  },
  {
   "cell_type": "markdown",
   "metadata": {},
   "source": [
    "### python实现单个相关图"
   ]
  },
  {
   "cell_type": "code",
   "execution_count": 1,
   "metadata": {
    "collapsed": false
   },
   "outputs": [],
   "source": [
    "import pandas as pd\n",
    "import matplotlib.pyplot as plt\n",
    "import numpy as np\n",
    "\n",
    "%matplotlib inline"
   ]
  },
  {
   "cell_type": "code",
   "execution_count": 2,
   "metadata": {
    "collapsed": false
   },
   "outputs": [
    {
     "data": {
      "text/html": [
       "<div>\n",
       "<style>\n",
       "    .dataframe thead tr:only-child th {\n",
       "        text-align: right;\n",
       "    }\n",
       "\n",
       "    .dataframe thead th {\n",
       "        text-align: left;\n",
       "    }\n",
       "\n",
       "    .dataframe tbody tr th {\n",
       "        vertical-align: top;\n",
       "    }\n",
       "</style>\n",
       "<table border=\"1\" class=\"dataframe\">\n",
       "  <thead>\n",
       "    <tr style=\"text-align: right;\">\n",
       "      <th></th>\n",
       "      <th>hgrow</th>\n",
       "      <th>temp</th>\n",
       "      <th>rain</th>\n",
       "      <th>hsun</th>\n",
       "      <th>humi</th>\n",
       "    </tr>\n",
       "  </thead>\n",
       "  <tbody>\n",
       "    <tr>\n",
       "      <th>1</th>\n",
       "      <td>0.01</td>\n",
       "      <td>4.2</td>\n",
       "      <td>17.0</td>\n",
       "      <td>54.5</td>\n",
       "      <td>81</td>\n",
       "    </tr>\n",
       "    <tr>\n",
       "      <th>2</th>\n",
       "      <td>0.50</td>\n",
       "      <td>7.4</td>\n",
       "      <td>10.8</td>\n",
       "      <td>73.8</td>\n",
       "      <td>79</td>\n",
       "    </tr>\n",
       "    <tr>\n",
       "      <th>3</th>\n",
       "      <td>1.50</td>\n",
       "      <td>10.0</td>\n",
       "      <td>17.4</td>\n",
       "      <td>84.7</td>\n",
       "      <td>75</td>\n",
       "    </tr>\n",
       "    <tr>\n",
       "      <th>4</th>\n",
       "      <td>10.80</td>\n",
       "      <td>16.1</td>\n",
       "      <td>19.7</td>\n",
       "      <td>137.0</td>\n",
       "      <td>75</td>\n",
       "    </tr>\n",
       "    <tr>\n",
       "      <th>5</th>\n",
       "      <td>13.00</td>\n",
       "      <td>21.1</td>\n",
       "      <td>248.7</td>\n",
       "      <td>149.6</td>\n",
       "      <td>77</td>\n",
       "    </tr>\n",
       "  </tbody>\n",
       "</table>\n",
       "</div>"
      ],
      "text/plain": [
       "   hgrow  temp   rain   hsun  humi\n",
       "1   0.01   4.2   17.0   54.5    81\n",
       "2   0.50   7.4   10.8   73.8    79\n",
       "3   1.50  10.0   17.4   84.7    75\n",
       "4  10.80  16.1   19.7  137.0    75\n",
       "5  13.00  21.1  248.7  149.6    77"
      ]
     },
     "execution_count": 2,
     "metadata": {},
     "output_type": "execute_result"
    }
   ],
   "source": [
    "data = pd.read_excel('./data/相关分析数据.xlsx', sheetname=1, index_col=0 )\n",
    "data.head()"
   ]
  },
  {
   "cell_type": "code",
   "execution_count": 3,
   "metadata": {
    "collapsed": false
   },
   "outputs": [
    {
     "data": {
      "text/plain": [
       "<matplotlib.axes._subplots.AxesSubplot at 0x16f9b91b5c0>"
      ]
     },
     "execution_count": 3,
     "metadata": {},
     "output_type": "execute_result"
    },
    {
     "data": {
      "image/png": "[encoded data removed]",
      "text/plain": [
       "<matplotlib.figure.Figure at 0x16f9b8feac8>"
      ]
     },
     "metadata": {},
     "output_type": "display_data"
    }
   ],
   "source": [
    "data.plot.scatter(*data.columns[2:4])"
   ]
  },
  {
   "cell_type": "code",
   "execution_count": 4,
   "metadata": {
    "collapsed": false
   },
   "outputs": [
    {
     "data": {
      "text/plain": [
       "<matplotlib.axes._subplots.AxesSubplot at 0x16f9bddeac8>"
      ]
     },
     "execution_count": 4,
     "metadata": {},
     "output_type": "execute_result"
    },
    {
     "data": {
      "image/png": "[encoded data removed]",
      "text/plain": [
       "<matplotlib.figure.Figure at 0x16f9bdb85f8>"
      ]
     },
     "metadata": {},
     "output_type": "display_data"
    }
   ],
   "source": [
    "## 加入大小和颜色不同\n",
    "data.plot.scatter(*data.columns[2:4],  c=data.columns[0], s=data.iloc[:,0]*20, alpha=0.5)"
   ]
  },
  {
   "cell_type": "code",
   "execution_count": 5,
   "metadata": {
    "collapsed": false,
    "scrolled": true
   },
   "outputs": [
    {
     "data": {
      "text/plain": [
       "<matplotlib.collections.PathCollection at 0x16f9b9962e8>"
      ]
     },
     "execution_count": 5,
     "metadata": {},
     "output_type": "execute_result"
    },
    {
     "data": {
      "image/png": "[encoded data removed]",
      "text/plain": [
       "<matplotlib.figure.Figure at 0x16f9bec42b0>"
      ]
     },
     "metadata": {},
     "output_type": "display_data"
    }
   ],
   "source": [
    "plt.scatter(data.iloc[:,2],data.iloc[:,3],c=data.iloc[:,0], s=data.iloc[:,0]*20, alpha=0.5)"
   ]
  },
  {
   "cell_type": "code",
   "execution_count": 6,
   "metadata": {
    "collapsed": false
   },
   "outputs": [
    {
     "data": {
      "text/plain": [
       "<matplotlib.axes._subplots.AxesSubplot at 0x16f9be84550>"
      ]
     },
     "execution_count": 6,
     "metadata": {},
     "output_type": "execute_result"
    },
    {
     "data": {
      "image/png": "[encoded data removed]",
      "text/plain": [
       "<matplotlib.figure.Figure at 0x16f9bed3940>"
      ]
     },
     "metadata": {},
     "output_type": "display_data"
    }
   ],
   "source": [
    "data.plot.hexbin(*data.columns[2:4],  C=data.columns[0], reduce_C_function=np.min,gridsize=15)"
   ]
  },
  {
   "cell_type": "markdown",
   "metadata": {},
   "source": [
    "### 相关矩阵图"
   ]
  },
  {
   "cell_type": "code",
   "execution_count": 18,
   "metadata": {
    "collapsed": false
   },
   "outputs": [
    {
     "data": {
      "image/png": "[encoded data removed]",
      "text/plain": [
       "<matplotlib.figure.Figure at 0x16f9f343828>"
      ]
     },
     "metadata": {},
     "output_type": "display_data"
    }
   ],
   "source": [
    "from pandas.plotting import scatter_matrix\n",
    "_ = scatter_matrix(data, alpha=1, figsize=(12, 12), diagonal='kde')"
   ]
  },
  {
   "cell_type": "code",
   "execution_count": 19,
   "metadata": {
    "collapsed": false
   },
   "outputs": [
    {
     "data": {
      "image/png": "[encoded data removed]",
      "text/plain": [
       "<matplotlib.figure.Figure at 0x16f9f13f978>"
      ]
     },
     "metadata": {},
     "output_type": "display_data"
    }
   ],
   "source": [
    "_ = scatter_matrix(data, alpha=1, figsize=(12, 12))"
   ]
  },
  {
   "cell_type": "markdown",
   "metadata": {},
   "source": [
    "### 相关系数"
   ]
  },
  {
   "cell_type": "markdown",
   "metadata": {},
   "source": [
    "#### Pearson相关系数\n",
    "Pearson相关系数用来度量定距变量间的线性相关关系\n",
    "$$ \\rho = \\frac{Cov(X, Y)}{\\sigma_X \\sigma_Y} = \\frac{E(X-EX)(Y-EY)}{\\sqrt{E(X-EX)^2E(Y-EY)^2}} \\tag{1}$$\n",
    "\n",
    "\n",
    "##### 相关系数取值及其意义\n",
    "1. $r$ 的取值范围是 $[-1,1]$\n",
    "2. $r <0$，为负线性相关；  $- r>0$ 为正线性相关\n",
    "3. $|r|=1$，为完全相关\n",
    " - $r =1$，为完全正相关\n",
    " - $r =-1$，为完全负正相关\n",
    " - $r = 0$，不存在线性相关关系 \n"
   ]
  },
  {
   "cell_type": "markdown",
   "metadata": {},
   "source": [
    "#### 相关系数的显著性检验——t 检验\n",
    "检验的步骤为：\n",
    "- 提出假设： $H_0: \\rho=0; \\; H_1: \\rho \\neq 0$\n",
    "- 确定检验的统计量： $t = \\frac{r\\sqrt{n-2}}{\\sqrt{1-r^2}} \\sim t(n-2)$\n",
    "- 计算检验统计量的值或 $P$ 值，确定显著性水平 $\\alpha$，并作出决策：\n",
    "    - 若 $\\left|t \\right| > t_{\\alpha /  2}$，拒绝 $H_0$ (即总体线性相关显著)\n",
    "    - 若 $\\left|t \\right| \\leqslant  t_{\\alpha /  2}$，拒绝 $H_0$ (即总体线性相关不显著)\n"
   ]
  },
  {
   "cell_type": "markdown",
   "metadata": {},
   "source": [
    "#### Spearman等级相关系数\n",
    "Spearman等级相关系数用来度量定序变量间的线性相关关系\n",
    "\n",
    "##### 秩\n",
    "将样本值从小到大排序,排列的序号称为相应数据的的秩,对相同的数据取序号的平均值作为秩\n",
    "\n",
    "##### 计算公式\n",
    "设 $(x_i, y_i)$ 的秩为 $(U_i, V_i)$， $i=1,2,\\dots,n$\n",
    "\n",
    "$$ r = 1 - \\frac{6\\sum_{i=1}^{n}D_{i}^{2}}{n(n^2-1)}, \\: D_i=U_i-V_i \\tag{2} $$\n",
    "\n",
    "##### 性质\n",
    "- 若两变量正相关性较强, $r$ 趋近于1；若两变量负相关性较强,$r$ 趋近于 $-1$\n",
    "- 若两变量相关性较弱, $r$ 趋近于 $0$\n",
    "- 若两变量完全正相关性,$r=1$；\n",
    "    若两变量完全负相关性,$r=-1$\n"
   ]
  },
  {
   "cell_type": "markdown",
   "metadata": {},
   "source": [
    "#### $Kendall \\tau$ 相关系数\n",
    "$Kendall \\tau$ 是用非参数方法来度量定序变量间的线性相关关系\n",
    "\n",
    "\n",
    "##### 一致\n",
    "在样本 $(X_1,X_2,\\dots,X_n)$ 和 $(Y_1,Y_2,\\dots,Y_n)$ 中，如果 $(X_j-X_i)(Y_j-Y_i)>0$ 称 $(X_i,Y_i)$ 与 $(X_j,Y_j)$ 一致\n",
    "\n",
    "##### 计算\n",
    "$$ \\tau = (U-V)\\frac{2}{n(n-1)} \\tag{3}$$\n",
    "\n",
    "其中 $U$ 为一致对数目， $V$ 为非一致对数目\n"
   ]
  },
  {
   "cell_type": "markdown",
   "metadata": {},
   "source": [
    "### python 计算相关系数"
   ]
  },
  {
   "cell_type": "code",
   "execution_count": 9,
   "metadata": {
    "collapsed": false
   },
   "outputs": [
    {
     "data": {
      "text/html": [
       "<div>\n",
       "<style>\n",
       "    .dataframe thead tr:only-child th {\n",
       "        text-align: right;\n",
       "    }\n",
       "\n",
       "    .dataframe thead th {\n",
       "        text-align: left;\n",
       "    }\n",
       "\n",
       "    .dataframe tbody tr th {\n",
       "        vertical-align: top;\n",
       "    }\n",
       "</style>\n",
       "<table border=\"1\" class=\"dataframe\">\n",
       "  <thead>\n",
       "    <tr style=\"text-align: right;\">\n",
       "      <th></th>\n",
       "      <th>hgrow</th>\n",
       "      <th>temp</th>\n",
       "      <th>rain</th>\n",
       "      <th>hsun</th>\n",
       "      <th>humi</th>\n",
       "    </tr>\n",
       "  </thead>\n",
       "  <tbody>\n",
       "    <tr>\n",
       "      <th>hgrow</th>\n",
       "      <td>1.000000</td>\n",
       "      <td>0.983387</td>\n",
       "      <td>0.709370</td>\n",
       "      <td>0.704429</td>\n",
       "      <td>0.373573</td>\n",
       "    </tr>\n",
       "    <tr>\n",
       "      <th>temp</th>\n",
       "      <td>0.983387</td>\n",
       "      <td>1.000000</td>\n",
       "      <td>0.714821</td>\n",
       "      <td>0.690490</td>\n",
       "      <td>0.291983</td>\n",
       "    </tr>\n",
       "    <tr>\n",
       "      <th>rain</th>\n",
       "      <td>0.709370</td>\n",
       "      <td>0.714821</td>\n",
       "      <td>1.000000</td>\n",
       "      <td>0.701842</td>\n",
       "      <td>0.384326</td>\n",
       "    </tr>\n",
       "    <tr>\n",
       "      <th>hsun</th>\n",
       "      <td>0.704429</td>\n",
       "      <td>0.690490</td>\n",
       "      <td>0.701842</td>\n",
       "      <td>1.000000</td>\n",
       "      <td>-0.050938</td>\n",
       "    </tr>\n",
       "    <tr>\n",
       "      <th>humi</th>\n",
       "      <td>0.373573</td>\n",
       "      <td>0.291983</td>\n",
       "      <td>0.384326</td>\n",
       "      <td>-0.050938</td>\n",
       "      <td>1.000000</td>\n",
       "    </tr>\n",
       "  </tbody>\n",
       "</table>\n",
       "</div>"
      ],
      "text/plain": [
       "          hgrow      temp      rain      hsun      humi\n",
       "hgrow  1.000000  0.983387  0.709370  0.704429  0.373573\n",
       "temp   0.983387  1.000000  0.714821  0.690490  0.291983\n",
       "rain   0.709370  0.714821  1.000000  0.701842  0.384326\n",
       "hsun   0.704429  0.690490  0.701842  1.000000 -0.050938\n",
       "humi   0.373573  0.291983  0.384326 -0.050938  1.000000"
      ]
     },
     "execution_count": 9,
     "metadata": {},
     "output_type": "execute_result"
    }
   ],
   "source": [
    "## pearson 系数\n",
    "data.corr(method='pearson')"
   ]
  },
  {
   "cell_type": "code",
   "execution_count": 10,
   "metadata": {
    "collapsed": false
   },
   "outputs": [
    {
     "data": {
      "text/html": [
       "<div>\n",
       "<style>\n",
       "    .dataframe thead tr:only-child th {\n",
       "        text-align: right;\n",
       "    }\n",
       "\n",
       "    .dataframe thead th {\n",
       "        text-align: left;\n",
       "    }\n",
       "\n",
       "    .dataframe tbody tr th {\n",
       "        vertical-align: top;\n",
       "    }\n",
       "</style>\n",
       "<table border=\"1\" class=\"dataframe\">\n",
       "  <thead>\n",
       "    <tr style=\"text-align: right;\">\n",
       "      <th></th>\n",
       "      <th>hgrow</th>\n",
       "      <th>temp</th>\n",
       "      <th>rain</th>\n",
       "      <th>hsun</th>\n",
       "      <th>humi</th>\n",
       "    </tr>\n",
       "  </thead>\n",
       "  <tbody>\n",
       "    <tr>\n",
       "      <th>hgrow</th>\n",
       "      <td>1.000000</td>\n",
       "      <td>0.979021</td>\n",
       "      <td>0.839161</td>\n",
       "      <td>0.804196</td>\n",
       "      <td>0.402132</td>\n",
       "    </tr>\n",
       "    <tr>\n",
       "      <th>temp</th>\n",
       "      <td>0.979021</td>\n",
       "      <td>1.000000</td>\n",
       "      <td>0.818182</td>\n",
       "      <td>0.755245</td>\n",
       "      <td>0.412714</td>\n",
       "    </tr>\n",
       "    <tr>\n",
       "      <th>rain</th>\n",
       "      <td>0.839161</td>\n",
       "      <td>0.818182</td>\n",
       "      <td>1.000000</td>\n",
       "      <td>0.762238</td>\n",
       "      <td>0.342165</td>\n",
       "    </tr>\n",
       "    <tr>\n",
       "      <th>hsun</th>\n",
       "      <td>0.804196</td>\n",
       "      <td>0.755245</td>\n",
       "      <td>0.762238</td>\n",
       "      <td>1.000000</td>\n",
       "      <td>-0.095242</td>\n",
       "    </tr>\n",
       "    <tr>\n",
       "      <th>humi</th>\n",
       "      <td>0.402132</td>\n",
       "      <td>0.412714</td>\n",
       "      <td>0.342165</td>\n",
       "      <td>-0.095242</td>\n",
       "      <td>1.000000</td>\n",
       "    </tr>\n",
       "  </tbody>\n",
       "</table>\n",
       "</div>"
      ],
      "text/plain": [
       "          hgrow      temp      rain      hsun      humi\n",
       "hgrow  1.000000  0.979021  0.839161  0.804196  0.402132\n",
       "temp   0.979021  1.000000  0.818182  0.755245  0.412714\n",
       "rain   0.839161  0.818182  1.000000  0.762238  0.342165\n",
       "hsun   0.804196  0.755245  0.762238  1.000000 -0.095242\n",
       "humi   0.402132  0.412714  0.342165 -0.095242  1.000000"
      ]
     },
     "execution_count": 10,
     "metadata": {},
     "output_type": "execute_result"
    }
   ],
   "source": [
    "## Spearman 系数\n",
    "data.corr(method='spearman')"
   ]
  },
  {
   "cell_type": "code",
   "execution_count": 11,
   "metadata": {
    "collapsed": false,
    "scrolled": true
   },
   "outputs": [
    {
     "data": {
      "text/html": [
       "<div>\n",
       "<style>\n",
       "    .dataframe thead tr:only-child th {\n",
       "        text-align: right;\n",
       "    }\n",
       "\n",
       "    .dataframe thead th {\n",
       "        text-align: left;\n",
       "    }\n",
       "\n",
       "    .dataframe tbody tr th {\n",
       "        vertical-align: top;\n",
       "    }\n",
       "</style>\n",
       "<table border=\"1\" class=\"dataframe\">\n",
       "  <thead>\n",
       "    <tr style=\"text-align: right;\">\n",
       "      <th></th>\n",
       "      <th>hgrow</th>\n",
       "      <th>temp</th>\n",
       "      <th>rain</th>\n",
       "      <th>hsun</th>\n",
       "      <th>humi</th>\n",
       "    </tr>\n",
       "  </thead>\n",
       "  <tbody>\n",
       "    <tr>\n",
       "      <th>hgrow</th>\n",
       "      <td>1.000000</td>\n",
       "      <td>0.909091</td>\n",
       "      <td>0.636364</td>\n",
       "      <td>0.636364</td>\n",
       "      <td>0.330965</td>\n",
       "    </tr>\n",
       "    <tr>\n",
       "      <th>temp</th>\n",
       "      <td>0.909091</td>\n",
       "      <td>1.000000</td>\n",
       "      <td>0.606061</td>\n",
       "      <td>0.606061</td>\n",
       "      <td>0.299445</td>\n",
       "    </tr>\n",
       "    <tr>\n",
       "      <th>rain</th>\n",
       "      <td>0.636364</td>\n",
       "      <td>0.606061</td>\n",
       "      <td>1.000000</td>\n",
       "      <td>0.515152</td>\n",
       "      <td>0.267924</td>\n",
       "    </tr>\n",
       "    <tr>\n",
       "      <th>hsun</th>\n",
       "      <td>0.636364</td>\n",
       "      <td>0.606061</td>\n",
       "      <td>0.515152</td>\n",
       "      <td>1.000000</td>\n",
       "      <td>-0.047281</td>\n",
       "    </tr>\n",
       "    <tr>\n",
       "      <th>humi</th>\n",
       "      <td>0.330965</td>\n",
       "      <td>0.299445</td>\n",
       "      <td>0.267924</td>\n",
       "      <td>-0.047281</td>\n",
       "      <td>1.000000</td>\n",
       "    </tr>\n",
       "  </tbody>\n",
       "</table>\n",
       "</div>"
      ],
      "text/plain": [
       "          hgrow      temp      rain      hsun      humi\n",
       "hgrow  1.000000  0.909091  0.636364  0.636364  0.330965\n",
       "temp   0.909091  1.000000  0.606061  0.606061  0.299445\n",
       "rain   0.636364  0.606061  1.000000  0.515152  0.267924\n",
       "hsun   0.636364  0.606061  0.515152  1.000000 -0.047281\n",
       "humi   0.330965  0.299445  0.267924 -0.047281  1.000000"
      ]
     },
     "execution_count": 11,
     "metadata": {},
     "output_type": "execute_result"
    }
   ],
   "source": [
    "## Kendall tau 系数\n",
    "data.corr(method='kendall')"
   ]
  },
  {
   "cell_type": "code",
   "execution_count": 12,
   "metadata": {
    "collapsed": false
   },
   "outputs": [
    {
     "data": {
      "text/plain": [
       "(0.9833870788122121, 9.6920927647153237e-09)"
      ]
     },
     "execution_count": 12,
     "metadata": {},
     "output_type": "execute_result"
    }
   ],
   "source": [
    "## 使用scipy更全面，可以给出p值\n",
    "## pearson 系数\n",
    "from scipy.stats import stats\n",
    "stats.pearsonr(data.iloc[:,0], data.iloc[:,1])"
   ]
  },
  {
   "cell_type": "code",
   "execution_count": 13,
   "metadata": {
    "collapsed": false
   },
   "outputs": [
    {
     "data": {
      "text/plain": [
       "SpearmanrResult(correlation=0.97902097902097918, pvalue=3.0898013985487064e-08)"
      ]
     },
     "execution_count": 13,
     "metadata": {},
     "output_type": "execute_result"
    }
   ],
   "source": [
    "## Spearman 系数\n",
    "stats.spearmanr(data.iloc[:,0], data.iloc[:,1])"
   ]
  },
  {
   "cell_type": "code",
   "execution_count": 14,
   "metadata": {
    "collapsed": false
   },
   "outputs": [
    {
     "data": {
      "text/plain": [
       "KendalltauResult(correlation=0.90909090909090895, pvalue=3.8826707883649075e-05)"
      ]
     },
     "execution_count": 14,
     "metadata": {},
     "output_type": "execute_result"
    }
   ],
   "source": [
    "## Kendall tau 系数\n",
    "stats.kendalltau(data.iloc[:,0], data.iloc[:,1])"
   ]
  },
  {
   "cell_type": "markdown",
   "metadata": {},
   "source": [
    "### 偏相关分析\n",
    "在多要素所构成的系统中，先不考虑其它要素的影响，而单独研究两个要素之间的相互关系的密切程度，这称为偏相关。用以度量偏相关程度的统计量，称为偏相关系数。"
   ]
  },
  {
   "cell_type": "markdown",
   "metadata": {},
   "source": [
    "#### 3个要素的偏相关系数\n",
    "\n",
    "$$ r_{12\\cdot3} = \\frac{r_{12} - r_{13}r_{23}}{\\sqrt{(1-r_{13}^2(1-r_{23}^2)}} \\tag{4}$$\n",
    "\n",
    "$$ r_{13\\cdot2} = \\frac{r_{13} - r_{12}r_{23}}{\\sqrt{(1-r_{12}^2(1-r_{23}^2)}} \\tag{5}$$\n",
    "\n",
    "$$ r_{23\\cdot1} = \\frac{r_{23} - r_{12}r_{13}}{\\sqrt{(1-r_{12}^2(1-r_{13}^2)}} \\tag{6}$$"
   ]
  },
  {
   "cell_type": "markdown",
   "metadata": {},
   "source": [
    "#### 性质\n",
    "- 偏相关系数分布的范围在-1到1之间；\n",
    "- 偏相关系数的绝对值越大，表示其偏相关程度越大；"
   ]
  },
  {
   "cell_type": "markdown",
   "metadata": {},
   "source": [
    "#### 偏相关系数检验\n",
    "- 假设： $H_0: \\rho=0; \\; H_1: \\rho \\neq 0$\n",
    "\n",
    "\n",
    "- 统计量：$t = \\frac{r}{\\sqrt{1-r^2}}\\sqrt{n-m-2} \\sim t(n-m-2)$，$n$ 为样本数，$m$ 为阶数（控制变量个数）"
   ]
  },
  {
   "cell_type": "markdown",
   "metadata": {},
   "source": [
    "### python 实现偏相关系数"
   ]
  },
  {
   "cell_type": "code",
   "execution_count": 15,
   "metadata": {
    "collapsed": true
   },
   "outputs": [],
   "source": [
    "## 由于python没有现成的偏相关函数调用，故写了一个调用\n",
    "import numpy as np\n",
    "from scipy import stats, linalg\n",
    "\n",
    "def partial_corr(C):\n",
    "    \"\"\"\n",
    "    Returns the sample linear partial correlation coefficients between pairs of variables in C, controlling \n",
    "    for the remaining variables in C.\n",
    "    Parameters\n",
    "    ----------\n",
    "    C : array-like, shape (n, p)\n",
    "        Array with the different variables. Each column of C is taken as a variable\n",
    "    Returns\n",
    "    -------\n",
    "    P : array-like, shape (p, p)\n",
    "        P[i, j] contains the partial correlation of C[:, i] and C[:, j] controlling\n",
    "        for the remaining variables in C.\n",
    "    \"\"\"\n",
    "    \n",
    "    C = np.asarray(C)\n",
    "    C = np.column_stack([C, np.ones(C.shape[0])])\n",
    "    p = C.shape[1]\n",
    "    P_corr = np.zeros((p, p), dtype=np.float)\n",
    "    for i in range(p-1):\n",
    "        P_corr[i, i] = 1\n",
    "        for j in range(i, p):\n",
    "            idx = np.ones(p, dtype=np.bool)\n",
    "            idx[i] = False\n",
    "            idx[j] = False\n",
    "            beta_i = linalg.lstsq(C[:, idx], C[:, j])[0]\n",
    "            beta_j = linalg.lstsq(C[:, idx], C[:, i])[0]\n",
    "\n",
    "            res_j = C[:, j] - C[:, idx].dot( beta_i)\n",
    "            res_i = C[:, i] - C[:, idx].dot(beta_j)\n",
    "            \n",
    "            corr = stats.pearsonr(res_i, res_j)[0]\n",
    "            P_corr[i, j] = corr\n",
    "            P_corr[j, i] = corr\n",
    "        \n",
    "    return P_corr[:-1,:-1]"
   ]
  },
  {
   "cell_type": "code",
   "execution_count": 16,
   "metadata": {
    "collapsed": false,
    "scrolled": false
   },
   "outputs": [
    {
     "data": {
      "text/html": [
       "<div>\n",
       "<style>\n",
       "    .dataframe thead tr:only-child th {\n",
       "        text-align: right;\n",
       "    }\n",
       "\n",
       "    .dataframe thead th {\n",
       "        text-align: left;\n",
       "    }\n",
       "\n",
       "    .dataframe tbody tr th {\n",
       "        vertical-align: top;\n",
       "    }\n",
       "</style>\n",
       "<table border=\"1\" class=\"dataframe\">\n",
       "  <thead>\n",
       "    <tr style=\"text-align: right;\">\n",
       "      <th></th>\n",
       "      <th>hgrow</th>\n",
       "      <th>temp</th>\n",
       "      <th>rain</th>\n",
       "      <th>hsun</th>\n",
       "      <th>humi</th>\n",
       "    </tr>\n",
       "  </thead>\n",
       "  <tbody>\n",
       "    <tr>\n",
       "      <th>1</th>\n",
       "      <td>0.01</td>\n",
       "      <td>4.2</td>\n",
       "      <td>17.0</td>\n",
       "      <td>54.5</td>\n",
       "      <td>81</td>\n",
       "    </tr>\n",
       "    <tr>\n",
       "      <th>2</th>\n",
       "      <td>0.50</td>\n",
       "      <td>7.4</td>\n",
       "      <td>10.8</td>\n",
       "      <td>73.8</td>\n",
       "      <td>79</td>\n",
       "    </tr>\n",
       "    <tr>\n",
       "      <th>3</th>\n",
       "      <td>1.50</td>\n",
       "      <td>10.0</td>\n",
       "      <td>17.4</td>\n",
       "      <td>84.7</td>\n",
       "      <td>75</td>\n",
       "    </tr>\n",
       "    <tr>\n",
       "      <th>4</th>\n",
       "      <td>10.80</td>\n",
       "      <td>16.1</td>\n",
       "      <td>19.7</td>\n",
       "      <td>137.0</td>\n",
       "      <td>75</td>\n",
       "    </tr>\n",
       "    <tr>\n",
       "      <th>5</th>\n",
       "      <td>13.00</td>\n",
       "      <td>21.1</td>\n",
       "      <td>248.7</td>\n",
       "      <td>149.6</td>\n",
       "      <td>77</td>\n",
       "    </tr>\n",
       "  </tbody>\n",
       "</table>\n",
       "</div>"
      ],
      "text/plain": [
       "   hgrow  temp   rain   hsun  humi\n",
       "1   0.01   4.2   17.0   54.5    81\n",
       "2   0.50   7.4   10.8   73.8    79\n",
       "3   1.50  10.0   17.4   84.7    75\n",
       "4  10.80  16.1   19.7  137.0    75\n",
       "5  13.00  21.1  248.7  149.6    77"
      ]
     },
     "execution_count": 16,
     "metadata": {},
     "output_type": "execute_result"
    }
   ],
   "source": [
    "data2 = pd.read_excel('./data/相关分析数据.xlsx', sheetname='data10-03', index_col=0 )\n",
    "data2.head()"
   ]
  },
  {
   "cell_type": "code",
   "execution_count": 17,
   "metadata": {
    "collapsed": false
   },
   "outputs": [
    {
     "data": {
      "text/html": [
       "<div>\n",
       "<style>\n",
       "    .dataframe thead tr:only-child th {\n",
       "        text-align: right;\n",
       "    }\n",
       "\n",
       "    .dataframe thead th {\n",
       "        text-align: left;\n",
       "    }\n",
       "\n",
       "    .dataframe tbody tr th {\n",
       "        vertical-align: top;\n",
       "    }\n",
       "</style>\n",
       "<table border=\"1\" class=\"dataframe\">\n",
       "  <thead>\n",
       "    <tr style=\"text-align: right;\">\n",
       "      <th></th>\n",
       "      <th>hgrow</th>\n",
       "      <th>temp</th>\n",
       "      <th>rain</th>\n",
       "      <th>hsun</th>\n",
       "      <th>humi</th>\n",
       "    </tr>\n",
       "  </thead>\n",
       "  <tbody>\n",
       "    <tr>\n",
       "      <th>hgrow</th>\n",
       "      <td>1.000000</td>\n",
       "      <td>0.977408</td>\n",
       "      <td>-0.490567</td>\n",
       "      <td>0.631829</td>\n",
       "      <td>0.731011</td>\n",
       "    </tr>\n",
       "    <tr>\n",
       "      <th>temp</th>\n",
       "      <td>0.977408</td>\n",
       "      <td>1.000000</td>\n",
       "      <td>0.525396</td>\n",
       "      <td>-0.543962</td>\n",
       "      <td>-0.676731</td>\n",
       "    </tr>\n",
       "    <tr>\n",
       "      <th>rain</th>\n",
       "      <td>-0.490567</td>\n",
       "      <td>0.525396</td>\n",
       "      <td>1.000000</td>\n",
       "      <td>0.691587</td>\n",
       "      <td>0.647965</td>\n",
       "    </tr>\n",
       "    <tr>\n",
       "      <th>hsun</th>\n",
       "      <td>0.631829</td>\n",
       "      <td>-0.543962</td>\n",
       "      <td>0.691587</td>\n",
       "      <td>1.000000</td>\n",
       "      <td>-0.746468</td>\n",
       "    </tr>\n",
       "    <tr>\n",
       "      <th>humi</th>\n",
       "      <td>0.731011</td>\n",
       "      <td>-0.676731</td>\n",
       "      <td>0.647965</td>\n",
       "      <td>-0.746468</td>\n",
       "      <td>1.000000</td>\n",
       "    </tr>\n",
       "  </tbody>\n",
       "</table>\n",
       "</div>"
      ],
      "text/plain": [
       "          hgrow      temp      rain      hsun      humi\n",
       "hgrow  1.000000  0.977408 -0.490567  0.631829  0.731011\n",
       "temp   0.977408  1.000000  0.525396 -0.543962 -0.676731\n",
       "rain  -0.490567  0.525396  1.000000  0.691587  0.647965\n",
       "hsun   0.631829 -0.543962  0.691587  1.000000 -0.746468\n",
       "humi   0.731011 -0.676731  0.647965 -0.746468  1.000000"
      ]
     },
     "execution_count": 17,
     "metadata": {},
     "output_type": "execute_result"
    }
   ],
   "source": [
    "## 计算偏相关性\n",
    "p = partial_corr(data)\n",
    "data3 = pd.DataFrame(p, columns=data.columns, index=data.columns)\n",
    "data3"
   ]
  }
 ],
 "metadata": {
  "kernelspec": {
   "display_name": "Python [conda root]",
   "language": "python",
   "name": "conda-root-py"
  },
  "language_info": {
   "codemirror_mode": {
    "name": "ipython",
    "version": 3
   },
   "file_extension": ".py",
   "mimetype": "text/x-python",
   "name": "python",
   "nbconvert_exporter": "python",
   "pygments_lexer": "ipython3",
   "version": "3.6.2"
  },
  "toc": {
   "nav_menu": {},
   "number_sections": true,
   "sideBar": true,
   "skip_h1_title": false,
   "toc_cell": false,
   "toc_position": {},
   "toc_section_display": "block",
   "toc_window_display": true
  },
  "varInspector": {
   "cols": {
    "lenName": 16,
    "lenType": 16,
    "lenVar": 40
   },
   "kernels_config": {
    "python": {
     "delete_cmd_postfix": "",
     "delete_cmd_prefix": "del ",
     "library": "var_list.py",
     "varRefreshCmd": "print(var_dic_list())"
    },
    "r": {
     "delete_cmd_postfix": ") ",
     "delete_cmd_prefix": "rm(",
     "library": "var_list.r",
     "varRefreshCmd": "cat(var_dic_list()) "
    }
   },
   "types_to_exclude": [
    "module",
    "function",
    "builtin_function_or_method",
    "instance",
    "_Feature"
   ],
   "window_display": false
  }
 },
 "nbformat": 4,
 "nbformat_minor": 2
}
