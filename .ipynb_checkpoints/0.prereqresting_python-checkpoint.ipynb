{
 "cells": [
  {
   "cell_type": "markdown",
   "metadata": {},
   "source": [
    "# python简明教程\n"
   ]
  },
  {
   "cell_type": "markdown",
   "metadata": {},
   "source": [
    "## 安装"
   ]
  },
  {
   "cell_type": "markdown",
   "metadata": {},
   "source": [
    "[Anaconda](https://www.anaconda.com/)是一个用于科学计算的Python发行版，支持 Linux, Mac, Windows系统，提供了包管理与环境管理的功能，可以很方便地解决多版本python并存、切换以及各种第三方包安装问题。Anaconda利用工具/命令conda来进行package和environment的管理，并且已经包含了Python和相关的配套工具。"
   ]
  },
  {
   "cell_type": "markdown",
   "metadata": {},
   "source": [
    "### 下载安装\n",
    "- 官网下载：https://www.anaconda.com/download/\n",
    "- 清华大学镜像下载：https://mirrors.tuna.tsinghua.edu.cn/anaconda/archive/ (推荐）\n",
    "\n",
    "推荐使用清华大学镜像下载，选择对应的版本，如：\"Anaconda3-5.0.0-Windows-x86_64.exe\".\n",
    "![下载](./fig/1.png)\n",
    "下载好之后默认安装就好，最后会询问是否加入到系统变量，选择加入。"
   ]
  },
  {
   "cell_type": "markdown",
   "metadata": {},
   "source": [
    "### jupyter"
   ]
  },
  {
   "cell_type": "markdown",
   "metadata": {},
   "source": [
    "#### 打开jupyter"
   ]
  },
  {
   "cell_type": "markdown",
   "metadata": {},
   "source": [
    "- 下载好了之后,按 `win(开始键)+R` 然后输入`cmd`后点确定，会弹出一个界面。\n",
    "- 在弹出的界面里面输入`jupytre notebook`,会弹出一个网页.\n",
    "- 点击右上角的 `new` 选择 `python3` 即可创建并打开一个新的可运行 `python` 的笔记本`jupyter`。\n",
    "\n",
    "![打开cmd](./fig/2.png) ![cmd](./fig/3.png) ![jupyter](./fig/4.png)"
   ]
  },
  {
   "cell_type": "markdown",
   "metadata": {},
   "source": [
    "#### jupyter操作"
   ]
  },
  {
   "cell_type": "markdown",
   "metadata": {},
   "source": [
    "主要：代码运行、保存、文件重命名、文件上传\n",
    "\n",
    "在单元框里面写入代码后，按`Shift`+`Enter`键即可运行代码，显示结果。也可以选择导航栏中的按钮运行代码。\n",
    "![jupyter run](./fig/5.png)\n",
    "按左上角的保存键即可保存文件,或者按file下的save and checkpoint。\n",
    "![save and rename](./fig/6.png)\n",
    "\n",
    "文件上传在jupyter主界面点右上角的upload后选择要上传的文件，再点一次upload即可上传文件。\n",
    "![upload_1](./fig/7.png) ![upload_2](./fig/8.png)"
   ]
  },
  {
   "cell_type": "markdown",
   "metadata": {},
   "source": [
    "#### 选择在不同的工作目录下运行jupyter\n",
    "打开你要运行的工作目录，也就是打开你要存放代码的文件夹，然后按住Shift和右键,点击在此处打开powershell，然后和之前的一样，输入jupyter notebook即可在这个文件夹下打开jupyter，而且文件也保存在这个文件夹下，可以方便读取和存储数据在这个文件夹下。\n",
    "![powershell](./fig/9.png)"
   ]
  },
  {
   "cell_type": "markdown",
   "metadata": {},
   "source": [
    "### 包管理"
   ]
  },
  {
   "cell_type": "markdown",
   "metadata": {},
   "source": [
    "python本身的非常小，编写简单，容易上手。又由于python有各种各样的拓展包，所以python的功能非常强大。在数据挖掘领域，我们主要使用的拓展包为：\n",
    " - numpy\n",
    " - scipy\n",
    " - pandas\n",
    " - matplotlib\n",
    " - sklearn\n",
    " \n",
    " \n",
    " 其中[`numpy`](http://www.numpy.org/)是科学运算的基础，可以很方便的对数据进行多个维度操作。 [`Scipy`](https://www.scipy.org/)是一个基于python的数据科学运算体系，包括优化(scipy.optimize), 线性代数(scipy.optimize), 统计分析(scipy.optimize)等强大的算法。[`matplotlib`](https://matplotlib.org/)是类似于Matlab画图风格的强大2d画图工具。[`sklearn`](http://scikit-learn.org/)是一个基于python的机器学习库，里面包含各种机器学习算法。\n"
   ]
  },
  {
   "cell_type": "markdown",
   "metadata": {},
   "source": [
    "- python的官方教程: https://docs.scipy.org/doc/numpy-dev/user/quickstart.html\n",
    "- numpy的官方教程: https://docs.scipy.org/doc/numpy-dev/user/quickstart.html\n",
    "- scipy官方教程： http://scipy.github.io/devdocs/tutorial/index.html\n",
    "- matplotlib的官方教程： https://matplotlib.org/tutorials/index.html\n",
    "- sklearn的官方教程：http://scikit-learn.org/stable/tutorial/index.html"
   ]
  },
  {
   "cell_type": "markdown",
   "metadata": {},
   "source": []
  }
 ],
 "metadata": {
  "kernelspec": {
   "display_name": "Python [conda root]",
   "language": "python",
   "name": "conda-root-py"
  },
  "language_info": {
   "codemirror_mode": {
    "name": "ipython",
    "version": 3
   },
   "file_extension": ".py",
   "mimetype": "text/x-python",
   "name": "python",
   "nbconvert_exporter": "python",
   "pygments_lexer": "ipython3",
   "version": "3.6.2"
  },
  "toc": {
   "nav_menu": {},
   "number_sections": true,
   "sideBar": true,
   "skip_h1_title": false,
   "toc_cell": false,
   "toc_position": {},
   "toc_section_display": "block",
   "toc_window_display": false
  },
  "varInspector": {
   "cols": {
    "lenName": 16,
    "lenType": 16,
    "lenVar": 40
   },
   "kernels_config": {
    "python": {
     "delete_cmd_postfix": "",
     "delete_cmd_prefix": "del ",
     "library": "var_list.py",
     "varRefreshCmd": "print(var_dic_list())"
    },
    "r": {
     "delete_cmd_postfix": ") ",
     "delete_cmd_prefix": "rm(",
     "library": "var_list.r",
     "varRefreshCmd": "cat(var_dic_list()) "
    }
   },
   "types_to_exclude": [
    "module",
    "function",
    "builtin_function_or_method",
    "instance",
    "_Feature"
   ],
   "window_display": false
  }
 },
 "nbformat": 4,
 "nbformat_minor": 2
}
