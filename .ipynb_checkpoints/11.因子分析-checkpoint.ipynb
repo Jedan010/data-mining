{
 "cells": [
  {
   "cell_type": "markdown",
   "metadata": {},
   "source": [
    "# 因子分析理论"
   ]
  },
  {
   "attachments": {},
   "cell_type": "markdown",
   "metadata": {},
   "source": [
    "因子分析的**基本思想**是把每个研究变量分解为几个影响因素变量，将每个原始变量分解成两部分因素，一部分是由所有变量共同具有的少数几个**公共因子**组成的，另一部分是每个变量独自具有的因素，即**特殊因子**。"
   ]
  },
  {
   "attachments": {},
   "cell_type": "markdown",
   "metadata": {},
   "source": [
    "## **模型：**\n",
    "$$ X^* = AF + E  \\tag{1}$$\n",
    "\n",
    "$X^*$ :标准化后的数据，$F$：公共因子，$E$：特殊因子\n",
    "\n",
    "假设 $X^*$、$F$、$E$ 满足这样一些性质：\n",
    "- $$ E(X^*)=0, \\: cov(X)=I \\tag{2}$$\n",
    "- $$ E(F)=0, \\: cov(F)=I   \\tag{3}$$\n",
    "- $$ E(E)=0 , \\:cov(E)=\\Sigma，\\: cov(E_i,F)=0 \\tag{4}$$"
   ]
  },
  {
   "cell_type": "markdown",
   "metadata": {},
   "source": [
    "** 变量意义**\n",
    "\n",
    " 1. 因子载荷量 $A$ 的统计意义:\n",
    "$a_{ij}$ 是 $x_i^*$与 $F_j$ 的相关系数，表示 $x_i^*$ 依赖于 $F_j$ 的程度。反映了第 $i$ 个原有变量在第 $j$ 个公共因子上的相对重要性。\n",
    " 2. 变量共同度 $h^2$ 及其统计意义:\n",
    " $$ h_i^2 = \\sum_{j=1}^m a_{ij}^2 \\;\\; i=1,2,\\dots,p \\tag{5} $$\n",
    " $$ var(X_i^*) = h_i^2 + var(E_i) = 1 \\tag{6}$$ \n",
    "$h_i^2$ 反映了全部公共因子对变量 $x_i^*$ 的影响，是全部公共因子对变量方差所做出的贡献，或者说 $X_i^*$ 对公共因子的共同依赖程度.\n"
   ]
  },
  {
   "attachments": {},
   "cell_type": "markdown",
   "metadata": {},
   "source": [
    "** 参数估计**\n",
    "\n",
    "- Principal  components:主成分法\n",
    "- Unweighted least square:不加权最小平方法\n",
    "- Generalized least squares:普通最小平方法\n",
    "- Maximum likelihood:最大似然法\n",
    "- Principal axis factoring:主因子法\n",
    "- Alpha factoring:$\\alpha$ 因子提取法\n",
    "- Image factoring:映象因子提取法\n"
   ]
  },
  {
   "attachments": {},
   "cell_type": "markdown",
   "metadata": {},
   "source": [
    "## ** 因子分析的前提条件 **\n",
    "- 如果相关系数矩阵中大部分相关系数都小于0.3且未通过统计检验，那么这些变量就不适合做因子分析。\n",
    "- 反映象相关矩阵（Anti-image correction  matrix）：\n",
    "如果反映象相关矩阵中的对角线上元素值接近1，其他元素的绝对值 比较小，则说明这些变量可能适合作因子分析\n",
    "\n",
    "\n",
    "- **Bartlett  test of sphericity**\n",
    "    - H0:相关系数矩阵是一个单位阵\n",
    "    - 如果统计量值比较大，且其相对应的相伴概率值小于用户指定的显著性水平，拒绝原假设，认为适合作因子分析。\n",
    "    - 反之，接受原假设，不适合作因子分析。\n",
    "    \n",
    "- **KMO检验**\n",
    "$$ KMO = \\frac{\\sum\\sum_{i \\neq j}r_{ij}^2}{\\sum\\sum_{i \\neq j}r_{ij}^2 + \\sum\\sum_{i \\neq j}p_{ij}^2} \\tag{7} $$\n",
    "\n",
    "    - 0.9以上非常适合作因子分析\n",
    "    - 0.8以上适合作因子分析\n",
    "    - 0.7一般\n",
    "    - 0.6不太适合\n",
    "    - 0.5以下表示极不适合\n"
   ]
  },
  {
   "attachments": {},
   "cell_type": "markdown",
   "metadata": {},
   "source": [
    "## 因子旋转"
   ]
  },
  {
   "attachments": {},
   "cell_type": "markdown",
   "metadata": {},
   "source": [
    "**因子旋转的目的**\n",
    "- 使每个变量在尽可能少的因子上有比较高的载荷，让某个变量在某个因子上的载荷趋于1，而在其他因子上的载荷趋于0。要求每一列上的载荷大部分为很小的值，每一行中只有少量的最好只有一个较大的载荷值；每两列中大载荷与小载荷的排列模式应该不同。\n",
    "\n",
    "**因子旋转的方法：**\n",
    "1. varimax:方差最大旋转。简化对因子的解释\n",
    "2. direct oblimin:直接斜交旋转。允许因子之间具有相关性。\n",
    "3. quartmax:四次最大正交旋转。简化对变量的解释\n",
    "4. equamax:平均正交旋转。\n",
    "5. promax:斜交旋转方法。\n"
   ]
  },
  {
   "cell_type": "code",
   "execution_count": null,
   "metadata": {
    "collapsed": true
   },
   "outputs": [],
   "source": []
  }
 ],
 "metadata": {
  "kernelspec": {
   "display_name": "Python [conda root]",
   "language": "python",
   "name": "conda-root-py"
  },
  "language_info": {
   "codemirror_mode": {
    "name": "ipython",
    "version": 3
   },
   "file_extension": ".py",
   "mimetype": "text/x-python",
   "name": "python",
   "nbconvert_exporter": "python",
   "pygments_lexer": "ipython3",
   "version": "3.6.2"
  },
  "toc": {
   "nav_menu": {},
   "number_sections": true,
   "sideBar": true,
   "skip_h1_title": false,
   "toc_cell": false,
   "toc_position": {},
   "toc_section_display": "block",
   "toc_window_display": false
  },
  "varInspector": {
   "cols": {
    "lenName": 16,
    "lenType": 16,
    "lenVar": 40
   },
   "kernels_config": {
    "python": {
     "delete_cmd_postfix": "",
     "delete_cmd_prefix": "del ",
     "library": "var_list.py",
     "varRefreshCmd": "print(var_dic_list())"
    },
    "r": {
     "delete_cmd_postfix": ") ",
     "delete_cmd_prefix": "rm(",
     "library": "var_list.r",
     "varRefreshCmd": "cat(var_dic_list()) "
    }
   },
   "types_to_exclude": [
    "module",
    "function",
    "builtin_function_or_method",
    "instance",
    "_Feature"
   ],
   "window_display": false
  }
 },
 "nbformat": 4,
 "nbformat_minor": 2
}
