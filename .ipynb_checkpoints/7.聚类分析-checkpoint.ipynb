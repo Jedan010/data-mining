{
 "cells": [
  {
   "cell_type": "markdown",
   "metadata": {
    "toc": "true"
   },
   "source": [
    " # Table of Contents\n",
    "<div class=\"toc\" style=\"margin-top: 1em;\"><ul class=\"toc-item\" id=\"toc-level0\"><li><span><a href=\"#聚类分析概述\" data-toc-modified-id=\"聚类分析概述-1\"><span class=\"toc-item-num\">1&nbsp;&nbsp;</span>聚类分析概述</a></span><ul class=\"toc-item\"><li><span><a href=\"#-聚类分析的分类：-\" data-toc-modified-id=\"-聚类分析的分类：--1.1\"><span class=\"toc-item-num\">1.1&nbsp;&nbsp;</span><strong> 聚类分析的分类： </strong></a></span></li><li><span><a href=\"#距离的度量：\" data-toc-modified-id=\"距离的度量：-1.2\"><span class=\"toc-item-num\">1.2&nbsp;&nbsp;</span>距离的度量：</a></span><ul class=\"toc-item\"><li><span><a href=\"#距离的定义方式：\" data-toc-modified-id=\"距离的定义方式：-1.2.1\"><span class=\"toc-item-num\">1.2.1&nbsp;&nbsp;</span>距离的定义方式：</a></span></li><li><span><a href=\"#相似系数\" data-toc-modified-id=\"相似系数-1.2.2\"><span class=\"toc-item-num\">1.2.2&nbsp;&nbsp;</span>相似系数</a></span></li></ul></li></ul></li><li><span><a href=\"#系统聚类的基本思想\" data-toc-modified-id=\"系统聚类的基本思想-2\"><span class=\"toc-item-num\">2&nbsp;&nbsp;</span>系统聚类的基本思想</a></span><ul class=\"toc-item\"><li><span><a href=\"#系统聚类的基本步骤\" data-toc-modified-id=\"系统聚类的基本步骤-2.1\"><span class=\"toc-item-num\">2.1&nbsp;&nbsp;</span>系统聚类的基本步骤</a></span></li><li><span><a href=\"#系统聚类(Hierarchical-clustering)\" data-toc-modified-id=\"系统聚类(Hierarchical-clustering)-2.2\"><span class=\"toc-item-num\">2.2&nbsp;&nbsp;</span>系统聚类(Hierarchical clustering)</a></span></li><li><span><a href=\"#类间距离\" data-toc-modified-id=\"类间距离-2.3\"><span class=\"toc-item-num\">2.3&nbsp;&nbsp;</span>类间距离</a></span></li><li><span><a href=\"#实验\" data-toc-modified-id=\"实验-2.4\"><span class=\"toc-item-num\">2.4&nbsp;&nbsp;</span>实验</a></span></li></ul></li><li><span><a href=\"#快速聚类\" data-toc-modified-id=\"快速聚类-3\"><span class=\"toc-item-num\">3&nbsp;&nbsp;</span>快速聚类</a></span><ul class=\"toc-item\"><li><span><a href=\"#聚类分析要注意的问题\" data-toc-modified-id=\"聚类分析要注意的问题-3.1\"><span class=\"toc-item-num\">3.1&nbsp;&nbsp;</span>聚类分析要注意的问题</a></span></li><li><span><a href=\"#在图像分割上的简单应用\" data-toc-modified-id=\"在图像分割上的简单应用-3.2\"><span class=\"toc-item-num\">3.2&nbsp;&nbsp;</span>在图像分割上的简单应用</a></span></li><li><span><a href=\"#实验\" data-toc-modified-id=\"实验-3.3\"><span class=\"toc-item-num\">3.3&nbsp;&nbsp;</span>实验</a></span><ul class=\"toc-item\"><li><span><a href=\"#PCA降维可视化\" data-toc-modified-id=\"PCA降维可视化-3.3.1\"><span class=\"toc-item-num\">3.3.1&nbsp;&nbsp;</span>PCA降维可视化</a></span></li></ul></li></ul></li></ul></div>"
   ]
  },
  {
   "cell_type": "markdown",
   "metadata": {},
   "source": [
    "# 聚类分析概述"
   ]
  },
  {
   "cell_type": "markdown",
   "metadata": {},
   "source": [
    "- 聚类分析又称群分析，它是研究（样品或指标）分类问题的一种多元统计方法，所谓类，通俗地说，就是指相似元素的集合。 \n",
    "- 聚类分析内容非常丰富，有系统聚类法、有序样品聚类法、动态聚类法、模糊聚类法、图论聚类法、聚类预报法等。"
   ]
  },
  {
   "cell_type": "markdown",
   "metadata": {},
   "source": [
    "## ** 聚类分析的分类： **\n",
    "- **样品聚类** （ Q 型聚类）：对事件(Cases)进行聚类，或是说对观测量进行聚类。\n",
    "- **变量聚类** （ R 型聚类）：进行变量聚类，找出彼此独立且有代表性的自变量，而又不丢失大部分信息 "
   ]
  },
  {
   "cell_type": "markdown",
   "metadata": {},
   "source": [
    "## 距离的度量：\n",
    "- 为了将样品（或指标）进行分类，就需要研究样品之间关系。\n",
    "- 目前用得最多的方法有两个：\n",
    "    - 一种方法：相似系数；\n",
    "    - 另一种方法：距离 ；"
   ]
  },
  {
   "cell_type": "markdown",
   "metadata": {},
   "source": [
    "### 距离的定义方式：\n",
    "- 绝对值距离：\n",
    "    $$ d_{ij}=\\sum_{k=1}^{p}\\left |{x_{ik}-x_{jk}}\\right| \\tag{1} $$\n",
    "- 欧氏(Euclidean)距离：\n",
    "    $$ d_{ij}= \\left[\\sum_{k=1}^{p}(x_{ik}-x_{jk})^2  \\right]^{\\frac{1}{2}}  \\tag{2} $$\n",
    "- 切比雪夫(Chebychev)距离:\n",
    "    $$ d_{ij}=\\max_{1 \\leqslant k \\leqslant p}\\left |{x_{ik}-x_{jk}}\\right| \\tag{3} $$\n",
    "- 明氏(Minkowski)距离:\n",
    "    $$ d_{ij}= \\left[\\sum_{k=1}^{p}|x_{ik}-x_{jk}|^q  \\right]^{\\frac{1}{q}}  \\tag{4} $$\n"
   ]
  },
  {
   "cell_type": "markdown",
   "metadata": {},
   "source": [
    "### 相似系数 "
   ]
  },
  {
   "cell_type": "markdown",
   "metadata": {},
   "source": [
    "- 夹角余弦：\n",
    "    $$ \\cos\\theta_{st} = \\frac{\\sum_{i=1}^{n}x_{is}x_{it}}{\\sqrt{\\sum_{i=1}^{n}x_{is}^{2} \\cdot \\sum_{i=1}^{n}x_{it}^{2}}} \\tag{5} $$\n",
    "- Pearson相关系数:\n",
    "    $$ \\cos\\theta_{st} = \\frac{\\sum_{i=1}^{n}(x_{is}-\\bar{x_s})(x_{it}-\\bar{x_t})}{\\sqrt{\\sum_{i=1}^{n}(x_{is}-\\bar{x_s})^{2} \\cdot \\sum_{i=1}^{n}(x_{it}-\\bar{x_s})^{2}}} \\tag{6} $$\n",
    "- 指数相似系数 :\n",
    "    $$ c_{ij} = \\frac{1}{p}\\sum_{k=1}^{p}\\exp{\\left[-\\frac{3}{4}\\frac{(x_{ik}-x_{jk})^2}{s_{k}^{2}} \\right]} \\tag{7} $$"
   ]
  },
  {
   "cell_type": "markdown",
   "metadata": {},
   "source": [
    "# 系统聚类的基本思想\n",
    "** 物以类聚 **\n",
    "\n",
    "- 相近的聚为一类(以距离表示，样品聚类)\n",
    "- 相似的聚为一类(以相似系数表示，变量聚类)\n"
   ]
  },
  {
   "cell_type": "markdown",
   "metadata": {},
   "source": [
    "## 系统聚类的基本步骤"
   ]
  },
  {
   "cell_type": "markdown",
   "metadata": {},
   "source": [
    "1. 构造n个类，每个类包含且只包含一个样品。\n",
    "1. 计算n个样品两两间的距离，构成距离矩阵，记作D0。\n",
    "1. 合并距离最近的两类为一新类。\n",
    "1. 计算新类与当前各类的距离。若类的个数等于1，转到步骤(5)，否则回到步骤(3)。\n",
    "1. 画聚类图。\n",
    "1. 决定类的个数，及各类包含的样品数，并对类作出解释。\n"
   ]
  },
  {
   "cell_type": "markdown",
   "metadata": {},
   "source": [
    "## 系统聚类(Hierarchical clustering)\n",
    "- 最短距离法(single linkage)\n",
    "- 最长距离法(complete linkage)\n",
    "- 中间距离法(median method)\n",
    "- 可变距离法(flexible median)\n",
    "- 重心法(centroid)\n",
    "- 类平均法(average)\n",
    "- 可变类平均法(flexible average)\n",
    "- Ward最小方差法(Ward’s minimum variance)\n",
    "\n"
   ]
  },
  {
   "cell_type": "markdown",
   "metadata": {},
   "source": [
    "## 类间距离\n",
    "![png](./fig/15.png)\n",
    "![png](./fig/16.png)"
   ]
  },
  {
   "cell_type": "markdown",
   "metadata": {},
   "source": [
    "## 实验\n",
    "\n",
    "为了反映中国各个地区的生活水平差异，我们收集整理了2016年中国部分省市的国民经济数据，具体包括：\n",
    "\n",
    "- 国内生产国总值\n",
    "- 年末人口总数\n",
    "- 城乡居民年末储蓄余额\n",
    "- 在岗职位平均工资\n",
    "- 住宅商品房平均价格\n",
    "- 社会商品零售总额\n",
    "- 进出口货物总额\n",
    "- 普通高等院校在校人数\n",
    "- 医院个数\n",
    "\n",
    "现希望通过聚类分析的方法把相似的省份找出来，即把这些省份归为若干类别，从而更好的了解中国各省市地区生活水平的差异。\n"
   ]
  },
  {
   "cell_type": "code",
   "execution_count": 1,
   "metadata": {
    "collapsed": true
   },
   "outputs": [],
   "source": [
    "import pandas as pd\n",
    "import matplotlib.pyplot as plt\n",
    "\n",
    "%matplotlib inline"
   ]
  },
  {
   "cell_type": "code",
   "execution_count": 2,
   "metadata": {
    "collapsed": false
   },
   "outputs": [
    {
     "data": {
      "text/html": [
       "<div>\n",
       "<style>\n",
       "    .dataframe thead tr:only-child th {\n",
       "        text-align: right;\n",
       "    }\n",
       "\n",
       "    .dataframe thead th {\n",
       "        text-align: left;\n",
       "    }\n",
       "\n",
       "    .dataframe tbody tr th {\n",
       "        vertical-align: top;\n",
       "    }\n",
       "</style>\n",
       "<table border=\"1\" class=\"dataframe\">\n",
       "  <thead>\n",
       "    <tr style=\"text-align: right;\">\n",
       "      <th></th>\n",
       "      <th>国内生产国总值</th>\n",
       "      <th>年末人口总数</th>\n",
       "      <th>城乡居民年末储蓄余额</th>\n",
       "      <th>在岗职位平均工资</th>\n",
       "      <th>住宅商品房平均价格</th>\n",
       "      <th>社会商品零售总额</th>\n",
       "      <th>进出口货物总额</th>\n",
       "      <th>普通高等院校在校人数</th>\n",
       "      <th>医院个数</th>\n",
       "    </tr>\n",
       "  </thead>\n",
       "  <tbody>\n",
       "    <tr>\n",
       "      <th>北京</th>\n",
       "      <td>23014.59</td>\n",
       "      <td>1345.20</td>\n",
       "      <td>23913.97</td>\n",
       "      <td>113073</td>\n",
       "      <td>22300.0</td>\n",
       "      <td>10338.0</td>\n",
       "      <td>319416.16</td>\n",
       "      <td>60.3557</td>\n",
       "      <td>701</td>\n",
       "    </tr>\n",
       "    <tr>\n",
       "      <th>天津</th>\n",
       "      <td>16538.19</td>\n",
       "      <td>1026.90</td>\n",
       "      <td>8743.79</td>\n",
       "      <td>81486</td>\n",
       "      <td>9931.0</td>\n",
       "      <td>5257.3</td>\n",
       "      <td>114282.80</td>\n",
       "      <td>51.2854</td>\n",
       "      <td>661</td>\n",
       "    </tr>\n",
       "    <tr>\n",
       "      <th>石家庄</th>\n",
       "      <td>5440.60</td>\n",
       "      <td>1028.84</td>\n",
       "      <td>4868.93</td>\n",
       "      <td>54441</td>\n",
       "      <td>7798.0</td>\n",
       "      <td>2693.0</td>\n",
       "      <td>12160.29</td>\n",
       "      <td>41.9787</td>\n",
       "      <td>393</td>\n",
       "    </tr>\n",
       "    <tr>\n",
       "      <th>太原</th>\n",
       "      <td>2735.34</td>\n",
       "      <td>367.39</td>\n",
       "      <td>3432.12</td>\n",
       "      <td>60516</td>\n",
       "      <td>7303.0</td>\n",
       "      <td>1540.8</td>\n",
       "      <td>10677.38</td>\n",
       "      <td>42.1429</td>\n",
       "      <td>247</td>\n",
       "    </tr>\n",
       "    <tr>\n",
       "      <th>呼和浩特</th>\n",
       "      <td>3090.52</td>\n",
       "      <td>238.58</td>\n",
       "      <td>1683.96</td>\n",
       "      <td>53698</td>\n",
       "      <td>4946.0</td>\n",
       "      <td>1353.5</td>\n",
       "      <td>2072.75</td>\n",
       "      <td>23.5188</td>\n",
       "      <td>174</td>\n",
       "    </tr>\n",
       "  </tbody>\n",
       "</table>\n",
       "</div>"
      ],
      "text/plain": [
       "       国内生产国总值   年末人口总数  城乡居民年末储蓄余额  在岗职位平均工资  住宅商品房平均价格  社会商品零售总额    进出口货物总额  \\\n",
       "北京    23014.59  1345.20    23913.97    113073    22300.0   10338.0  319416.16   \n",
       "天津    16538.19  1026.90     8743.79     81486     9931.0    5257.3  114282.80   \n",
       "石家庄    5440.60  1028.84     4868.93     54441     7798.0    2693.0   12160.29   \n",
       "太原     2735.34   367.39     3432.12     60516     7303.0    1540.8   10677.38   \n",
       "呼和浩特   3090.52   238.58     1683.96     53698     4946.0    1353.5    2072.75   \n",
       "\n",
       "      普通高等院校在校人数  医院个数  \n",
       "北京       60.3557   701  \n",
       "天津       51.2854   661  \n",
       "石家庄      41.9787   393  \n",
       "太原       42.1429   247  \n",
       "呼和浩特     23.5188   174  "
      ]
     },
     "execution_count": 2,
     "metadata": {},
     "output_type": "execute_result"
    }
   ],
   "source": [
    "df = pd.read_excel('./data/主要城市聚类.xlsx', index_col=0)\n",
    "df.head()"
   ]
  },
  {
   "cell_type": "code",
   "execution_count": 3,
   "metadata": {
    "collapsed": false
   },
   "outputs": [
    {
     "data": {
      "text/plain": [
       "国内生产国总值       0\n",
       "年末人口总数        0\n",
       "城乡居民年末储蓄余额    0\n",
       "在岗职位平均工资      0\n",
       "住宅商品房平均价格     1\n",
       "社会商品零售总额      0\n",
       "进出口货物总额       0\n",
       "普通高等院校在校人数    0\n",
       "医院个数          0\n",
       "dtype: int64"
      ]
     },
     "execution_count": 3,
     "metadata": {},
     "output_type": "execute_result"
    }
   ],
   "source": [
    "df.isnull().sum()"
   ]
  },
  {
   "cell_type": "code",
   "execution_count": 4,
   "metadata": {
    "collapsed": false
   },
   "outputs": [],
   "source": [
    "df.fillna(value=df.mean(), inplace=True);"
   ]
  },
  {
   "cell_type": "code",
   "execution_count": 5,
   "metadata": {
    "collapsed": false
   },
   "outputs": [],
   "source": [
    "from sklearn.preprocessing import scale\n",
    "data = scale(df)\n",
    "\n",
    "from scipy.cluster.hierarchy import linkage, dendrogram\n",
    "\n",
    "##  average平均距离\n",
    "Z = linkage(data, 'average')"
   ]
  },
  {
   "cell_type": "code",
   "execution_count": 22,
   "metadata": {
    "collapsed": false
   },
   "outputs": [
    {
     "data": {
      "image/png": "[encoded data removed]",
      "text/plain": [
       "<matplotlib.figure.Figure at 0x1da64761c88>"
      ]
     },
     "metadata": {},
     "output_type": "display_data"
    }
   ],
   "source": [
    "plt.figure(figsize=(16,5))\n",
    "dn = dendrogram(Z,labels=df.index, leaf_font_size=15, leaf_rotation=90 )"
   ]
  },
  {
   "cell_type": "markdown",
   "metadata": {},
   "source": [
    "# 快速聚类"
   ]
  },
  {
   "cell_type": "markdown",
   "metadata": {},
   "source": [
    "![png](./fig/17.png)"
   ]
  },
  {
   "cell_type": "markdown",
   "metadata": {},
   "source": [
    "## 聚类分析要注意的问题"
   ]
  },
  {
   "cell_type": "markdown",
   "metadata": {},
   "source": [
    "- 用什么指标(变量)表达要分析的样品？\n",
    "- 用什么统计量(距离、相似系数)描述样本间的相似程度？\n",
    "- 用什么方法(类间距离等)进行聚类？\n",
    "- 分成几类比较合适？\n"
   ]
  },
  {
   "cell_type": "markdown",
   "metadata": {},
   "source": [
    "## 在图像分割上的简单应用"
   ]
  },
  {
   "cell_type": "markdown",
   "metadata": {},
   "source": [
    "1. 此图为100 x 100像素的JPG图片，每个像素可以表示为三维向量（分别对应JPEG图像中的红色、绿色和蓝色通道） ；\n",
    "1. 将图片分割为合适的背景区域（三个）和前景区域（小狗）；\n",
    "1. 使用K-means算法对图像进行分割。\n",
    "\n"
   ]
  },
  {
   "cell_type": "markdown",
   "metadata": {},
   "source": [
    "![png](./fig/18.png)\n",
    "![png](./fig/19.png)"
   ]
  },
  {
   "cell_type": "markdown",
   "metadata": {},
   "source": [
    "## 实验"
   ]
  },
  {
   "cell_type": "code",
   "execution_count": 7,
   "metadata": {
    "collapsed": false
   },
   "outputs": [
    {
     "data": {
      "text/plain": [
       "KMeans(algorithm='auto', copy_x=True, init='k-means++', max_iter=300,\n",
       "    n_clusters=3, n_init=10, n_jobs=1, precompute_distances='auto',\n",
       "    random_state=None, tol=0.0001, verbose=0)"
      ]
     },
     "execution_count": 7,
     "metadata": {},
     "output_type": "execute_result"
    }
   ],
   "source": [
    "from sklearn.cluster import KMeans\n",
    "kmeans = KMeans(3)\n",
    "kmeans.fit(data)"
   ]
  },
  {
   "cell_type": "code",
   "execution_count": 8,
   "metadata": {
    "collapsed": false
   },
   "outputs": [
    {
     "data": {
      "image/png": "[encoded data removed]",
      "text/plain": [
       "<matplotlib.figure.Figure at 0x1796fce4a58>"
      ]
     },
     "metadata": {},
     "output_type": "display_data"
    }
   ],
   "source": [
    "df_label = pd.DataFrame(kmeans.labels_, index=df.index)\n",
    "\n",
    "df_label.plot.bar(figsize=(13,5))\n",
    "plt.yticks([0,1,2]);"
   ]
  },
  {
   "cell_type": "markdown",
   "metadata": {},
   "source": [
    "### PCA降维可视化"
   ]
  },
  {
   "cell_type": "code",
   "execution_count": 9,
   "metadata": {
    "collapsed": false
   },
   "outputs": [],
   "source": [
    "from sklearn.decomposition import PCA\n",
    "pca = PCA(2)\n",
    "X = pca.fit_transform(data)"
   ]
  },
  {
   "cell_type": "code",
   "execution_count": 10,
   "metadata": {
    "collapsed": false
   },
   "outputs": [
    {
     "data": {
      "text/plain": [
       "<matplotlib.collections.PathCollection at 0x17970326a20>"
      ]
     },
     "execution_count": 10,
     "metadata": {},
     "output_type": "execute_result"
    },
    {
     "data": {
      "image/png": "[encoded data removed]",
      "text/plain": [
       "<matplotlib.figure.Figure at 0x1796fbcf2b0>"
      ]
     },
     "metadata": {},
     "output_type": "display_data"
    }
   ],
   "source": [
    "plt.scatter(X[:, 0], X[:, 1])"
   ]
  },
  {
   "cell_type": "code",
   "execution_count": 11,
   "metadata": {
    "collapsed": false
   },
   "outputs": [
    {
     "data": {
      "text/plain": [
       "KMeans(algorithm='auto', copy_x=True, init='k-means++', max_iter=300,\n",
       "    n_clusters=3, n_init=10, n_jobs=1, precompute_distances='auto',\n",
       "    random_state=None, tol=0.0001, verbose=0)"
      ]
     },
     "execution_count": 11,
     "metadata": {},
     "output_type": "execute_result"
    }
   ],
   "source": [
    "from sklearn.cluster import KMeans\n",
    "kmeans = KMeans(3)\n",
    "kmeans.fit(X)"
   ]
  },
  {
   "cell_type": "code",
   "execution_count": 12,
   "metadata": {
    "collapsed": false
   },
   "outputs": [
    {
     "data": {
      "text/plain": [
       "<matplotlib.collections.PathCollection at 0x179703c0470>"
      ]
     },
     "execution_count": 12,
     "metadata": {},
     "output_type": "execute_result"
    },
    {
     "data": {
      "image/png": "[encoded data removed]",
      "text/plain": [
       "<matplotlib.figure.Figure at 0x179702b8630>"
      ]
     },
     "metadata": {},
     "output_type": "display_data"
    }
   ],
   "source": [
    "y = kmeans.labels_\n",
    "for i in np.unique(y):\n",
    "    plt.scatter(X[y==i, 0], X[y==i, 1])\n",
    "plt.scatter(kmeans.cluster_centers_[:,0], kmeans.cluster_centers_[:,1], marker='x', c='r')"
   ]
  }
 ],
 "metadata": {
  "kernelspec": {
   "display_name": "Python [conda root]",
   "language": "python",
   "name": "conda-root-py"
  },
  "language_info": {
   "codemirror_mode": {
    "name": "ipython",
    "version": 3
   },
   "file_extension": ".py",
   "mimetype": "text/x-python",
   "name": "python",
   "nbconvert_exporter": "python",
   "pygments_lexer": "ipython3",
   "version": "3.6.2"
  },
  "toc": {
   "nav_menu": {},
   "number_sections": true,
   "sideBar": true,
   "skip_h1_title": false,
   "toc_cell": true,
   "toc_position": {},
   "toc_section_display": "none",
   "toc_window_display": false
  },
  "varInspector": {
   "cols": {
    "lenName": 16,
    "lenType": 16,
    "lenVar": 40
   },
   "kernels_config": {
    "python": {
     "delete_cmd_postfix": "",
     "delete_cmd_prefix": "del ",
     "library": "var_list.py",
     "varRefreshCmd": "print(var_dic_list())"
    },
    "r": {
     "delete_cmd_postfix": ") ",
     "delete_cmd_prefix": "rm(",
     "library": "var_list.r",
     "varRefreshCmd": "cat(var_dic_list()) "
    }
   },
   "types_to_exclude": [
    "module",
    "function",
    "builtin_function_or_method",
    "instance",
    "_Feature"
   ],
   "window_display": false
  }
 },
 "nbformat": 4,
 "nbformat_minor": 2
}
